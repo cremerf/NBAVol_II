{
  "cells": [
    {
      "cell_type": "markdown",
      "id": "3d08028c-be52-4d84-a995-34b690c3e8a5",
      "metadata": {
        "id": "3d08028c-be52-4d84-a995-34b690c3e8a5"
      },
      "source": [
        "# Making Estimations with our NBA dataset"
      ]
    },
    {
      "cell_type": "markdown",
      "id": "4ff2f3cb-7e1a-4705-bce7-44a56c0113e1",
      "metadata": {
        "id": "4ff2f3cb-7e1a-4705-bce7-44a56c0113e1"
      },
      "source": [
        "Let's explore how to make predictive models for regression and classification tasks using ScikitLearn with our extracted, preprocess and clean NBA data."
      ]
    },
    {
      "cell_type": "markdown",
      "id": "5b732b5b-8fcc-4917-85a1-035bfc00a7dd",
      "metadata": {
        "id": "5b732b5b-8fcc-4917-85a1-035bfc00a7dd"
      },
      "source": [
        "#### The goals of this project are:\n",
        "\n",
        "- Define a prediction task\n",
        "- Selecting evaluation metrics and baseline models\n",
        "- Perform feature engineering and standarization\n",
        "- Training and using predictive models: Univariable and Multivariate Linear Regression, Classification\n",
        "- Understand how Gradient Descent works by implementing a Linear Regressor in python"
      ]
    },
    {
      "cell_type": "markdown",
      "id": "73bd1212-887d-4b10-a277-30156aaf410b",
      "metadata": {
        "id": "73bd1212-887d-4b10-a277-30156aaf410b",
        "tags": []
      },
      "source": [
        "### 1. Regression Models to Estimate players Salaries"
      ]
    },
    {
      "cell_type": "markdown",
      "id": "e51670c9-30ec-4dcf-b3f4-e5ba90019818",
      "metadata": {
        "id": "e51670c9-30ec-4dcf-b3f4-e5ba90019818"
      },
      "source": [
        "A player's salary can be explained by a lot of factors: \n",
        "\n",
        "- Years in the league: NBA contracts are limited in price, players have caps on how much money they make depending on their years playing in the league\n",
        "- Age: Highly correlated to the previous one, NBA players have a minimun age of 19 years\n",
        "- Draft position: players out of USA universities are selected each year through a process called draft, in which each team selects a player in a predefined order for 2 rounds (meaning only 60 players are drafted each year). A rookie contract value depends on the draft position. (Undrafted players have to negotiate a salary independently)\n",
        "- Performance in statistical categories: after the rookie contract, players can negotiate freely with teams, and usually statistical categories like points, rebounds and assists are extremely important.  \n",
        "- Team: Even though there are limits to what all teams can expend in players salary, they all allocate their resources differently, and can be more willing to pay the penalties incurred by exceeding those limitations.\n",
        "- Year in which the contract was signed: the mininum and maximum values of contracts possibles in the NBA changes depending on league revenue (television contracts, sponsorships, etc), so if the amount of money the teams make increases, players can negotiate bigger contracts.\n",
        "- Intangibles: players can be valued also in things that are not easily translated to a statistic, good defensive players might not always have great stats but can be extremely important for a team, the same can be said about veteran players that help young ones to learn and are good locker-room guys."
      ]
    },
    {
      "cell_type": "markdown",
      "id": "6f110fec-8919-4427-89f7-b3e581176703",
      "metadata": {
        "id": "6f110fec-8919-4427-89f7-b3e581176703"
      },
      "source": [
        "### Analyzing our data"
      ]
    },
    {
      "cell_type": "code",
      "execution_count": null,
      "id": "0315863d",
      "metadata": {},
      "outputs": [],
      "source": [
        "!pip install -r requirements.txt"
      ]
    },
    {
      "cell_type": "code",
      "execution_count": 1,
      "id": "18653712",
      "metadata": {},
      "outputs": [],
      "source": [
        "import pylab \n",
        "import datetime\n",
        "import warnings\n",
        "import numpy as np\n",
        "import pandas as pd\n",
        "import seaborn as sns\n",
        "import scipy.stats as stats\n",
        "import matplotlib.pyplot as plt\n",
        "import sklearn.model_selection as model_selection\n",
        "from sklearn.metrics import mean_absolute_error\n",
        "from sklearn.preprocessing import StandardScaler\n",
        "from sklearn import linear_model\n",
        "import math\n",
        "from sklearn.tree import DecisionTreeRegressor\n",
        "from sklearn.linear_model import LogisticRegression\n",
        "from sklearn.metrics import accuracy_score, f1_score, precision_score, recall_score"
      ]
    },
    {
      "cell_type": "code",
      "execution_count": 11,
      "id": "bdac389b-e5f8-4563-a187-36b016c0641c",
      "metadata": {
        "id": "bdac389b-e5f8-4563-a187-36b016c0641c"
      },
      "outputs": [],
      "source": [
        "data = pd.read_csv(\"project2_players_df.csv\")\n",
        "data.dropna(subset=[\"PTS\"], inplace=True)"
      ]
    },
    {
      "cell_type": "markdown",
      "id": "e098b76d-c520-474b-9998-a263354fe27b",
      "metadata": {
        "id": "e098b76d-c520-474b-9998-a263354fe27b"
      },
      "source": [
        "All players statistics (\"PTS\", \"REB\", \"AST\",\"STL\",\"BLK\") against salary"
      ]
    },
    {
      "cell_type": "code",
      "execution_count": 3,
      "id": "50d589f1-25c1-48f8-88f3-e2c7f0e72625",
      "metadata": {
        "id": "50d589f1-25c1-48f8-88f3-e2c7f0e72625"
      },
      "outputs": [
        {
          "data": {
            "text/html": [
              "<div>\n",
              "<style scoped>\n",
              "    .dataframe tbody tr th:only-of-type {\n",
              "        vertical-align: middle;\n",
              "    }\n",
              "\n",
              "    .dataframe tbody tr th {\n",
              "        vertical-align: top;\n",
              "    }\n",
              "\n",
              "    .dataframe thead th {\n",
              "        text-align: right;\n",
              "    }\n",
              "</style>\n",
              "<table border=\"1\" class=\"dataframe\">\n",
              "  <thead>\n",
              "    <tr style=\"text-align: right;\">\n",
              "      <th></th>\n",
              "      <th>PERSON_ID</th>\n",
              "      <th>PLAYER_NAME</th>\n",
              "      <th>TEAM_NAME</th>\n",
              "      <th>POSITION</th>\n",
              "      <th>HEIGHT</th>\n",
              "      <th>WEIGHT</th>\n",
              "      <th>COUNTRY</th>\n",
              "      <th>BIRTHDATE</th>\n",
              "      <th>SEASON_EXP</th>\n",
              "      <th>DRAFT_NUMBER</th>\n",
              "      <th>GP</th>\n",
              "      <th>MIN</th>\n",
              "      <th>PTS</th>\n",
              "      <th>REB</th>\n",
              "      <th>AST</th>\n",
              "      <th>STL</th>\n",
              "      <th>BLK</th>\n",
              "      <th>GAME_DATE</th>\n",
              "      <th>Salary</th>\n",
              "      <th>AGE</th>\n",
              "    </tr>\n",
              "  </thead>\n",
              "  <tbody>\n",
              "    <tr>\n",
              "      <th>0</th>\n",
              "      <td>1630173</td>\n",
              "      <td>Precious Achiuwa</td>\n",
              "      <td>Raptors</td>\n",
              "      <td>Forward</td>\n",
              "      <td>203</td>\n",
              "      <td>102</td>\n",
              "      <td>Nigeria</td>\n",
              "      <td>1999-09-19</td>\n",
              "      <td>1</td>\n",
              "      <td>20</td>\n",
              "      <td>115.0</td>\n",
              "      <td>17.3</td>\n",
              "      <td>6.5</td>\n",
              "      <td>5.1</td>\n",
              "      <td>0.8</td>\n",
              "      <td>0.4</td>\n",
              "      <td>0.5</td>\n",
              "      <td>2022-03-06</td>\n",
              "      <td>2711280</td>\n",
              "      <td>22 years, 5 months, 25 days</td>\n",
              "    </tr>\n",
              "    <tr>\n",
              "      <th>1</th>\n",
              "      <td>203500</td>\n",
              "      <td>Steven Adams</td>\n",
              "      <td>Grizzlies</td>\n",
              "      <td>Center</td>\n",
              "      <td>211</td>\n",
              "      <td>120</td>\n",
              "      <td>New Zealand</td>\n",
              "      <td>1993-07-20</td>\n",
              "      <td>8</td>\n",
              "      <td>12</td>\n",
              "      <td>648.0</td>\n",
              "      <td>26.8</td>\n",
              "      <td>9.3</td>\n",
              "      <td>7.9</td>\n",
              "      <td>1.4</td>\n",
              "      <td>0.9</td>\n",
              "      <td>0.9</td>\n",
              "      <td>2022-03-06</td>\n",
              "      <td>17073171</td>\n",
              "      <td>28 years, 7 months, 24 days</td>\n",
              "    </tr>\n",
              "    <tr>\n",
              "      <th>2</th>\n",
              "      <td>1628389</td>\n",
              "      <td>Bam Adebayo</td>\n",
              "      <td>Heat</td>\n",
              "      <td>Center</td>\n",
              "      <td>206</td>\n",
              "      <td>116</td>\n",
              "      <td>USA</td>\n",
              "      <td>1997-07-18</td>\n",
              "      <td>4</td>\n",
              "      <td>14</td>\n",
              "      <td>326.0</td>\n",
              "      <td>28.0</td>\n",
              "      <td>13.2</td>\n",
              "      <td>8.2</td>\n",
              "      <td>3.5</td>\n",
              "      <td>1.0</td>\n",
              "      <td>0.9</td>\n",
              "      <td>2022-03-07</td>\n",
              "      <td>28103550</td>\n",
              "      <td>24 years, 7 months, 26 days</td>\n",
              "    </tr>\n",
              "    <tr>\n",
              "      <th>3</th>\n",
              "      <td>1630583</td>\n",
              "      <td>Santi Aldama</td>\n",
              "      <td>Grizzlies</td>\n",
              "      <td>Forward</td>\n",
              "      <td>211</td>\n",
              "      <td>98</td>\n",
              "      <td>Spain</td>\n",
              "      <td>2001-01-10</td>\n",
              "      <td>0</td>\n",
              "      <td>30</td>\n",
              "      <td>27.0</td>\n",
              "      <td>10.2</td>\n",
              "      <td>3.3</td>\n",
              "      <td>2.4</td>\n",
              "      <td>0.5</td>\n",
              "      <td>0.1</td>\n",
              "      <td>0.3</td>\n",
              "      <td>2022-03-06</td>\n",
              "      <td>1994520</td>\n",
              "      <td>21 years, 2 months, 6 days</td>\n",
              "    </tr>\n",
              "    <tr>\n",
              "      <th>4</th>\n",
              "      <td>200746</td>\n",
              "      <td>LaMarcus Aldridge</td>\n",
              "      <td>Nets</td>\n",
              "      <td>Center</td>\n",
              "      <td>211</td>\n",
              "      <td>113</td>\n",
              "      <td>USA</td>\n",
              "      <td>1985-07-19</td>\n",
              "      <td>15</td>\n",
              "      <td>2</td>\n",
              "      <td>1073.0</td>\n",
              "      <td>33.7</td>\n",
              "      <td>19.1</td>\n",
              "      <td>8.1</td>\n",
              "      <td>1.9</td>\n",
              "      <td>0.7</td>\n",
              "      <td>1.1</td>\n",
              "      <td>2022-03-06</td>\n",
              "      <td>2641691</td>\n",
              "      <td>36 years, 7 months, 25 days</td>\n",
              "    </tr>\n",
              "  </tbody>\n",
              "</table>\n",
              "</div>"
            ],
            "text/plain": [
              "   PERSON_ID        PLAYER_NAME  TEAM_NAME POSITION  HEIGHT  WEIGHT  \\\n",
              "0    1630173   Precious Achiuwa    Raptors  Forward     203     102   \n",
              "1     203500       Steven Adams  Grizzlies   Center     211     120   \n",
              "2    1628389        Bam Adebayo       Heat   Center     206     116   \n",
              "3    1630583       Santi Aldama  Grizzlies  Forward     211      98   \n",
              "4     200746  LaMarcus Aldridge       Nets   Center     211     113   \n",
              "\n",
              "       COUNTRY   BIRTHDATE  SEASON_EXP DRAFT_NUMBER      GP   MIN   PTS  REB  \\\n",
              "0      Nigeria  1999-09-19           1           20   115.0  17.3   6.5  5.1   \n",
              "1  New Zealand  1993-07-20           8           12   648.0  26.8   9.3  7.9   \n",
              "2          USA  1997-07-18           4           14   326.0  28.0  13.2  8.2   \n",
              "3        Spain  2001-01-10           0           30    27.0  10.2   3.3  2.4   \n",
              "4          USA  1985-07-19          15            2  1073.0  33.7  19.1  8.1   \n",
              "\n",
              "   AST  STL  BLK   GAME_DATE    Salary                          AGE  \n",
              "0  0.8  0.4  0.5  2022-03-06   2711280  22 years, 5 months, 25 days  \n",
              "1  1.4  0.9  0.9  2022-03-06  17073171  28 years, 7 months, 24 days  \n",
              "2  3.5  1.0  0.9  2022-03-07  28103550  24 years, 7 months, 26 days  \n",
              "3  0.5  0.1  0.3  2022-03-06   1994520   21 years, 2 months, 6 days  \n",
              "4  1.9  0.7  1.1  2022-03-06   2641691  36 years, 7 months, 25 days  "
            ]
          },
          "execution_count": 3,
          "metadata": {},
          "output_type": "execute_result"
        }
      ],
      "source": [
        "data.head()"
      ]
    },
    {
      "cell_type": "code",
      "execution_count": 4,
      "id": "1569678d",
      "metadata": {},
      "outputs": [
        {
          "data": {
            "image/png": "[encoded data removed]",
            "text/plain": [
              "<Figure size 864x792 with 1 Axes>"
            ]
          },
          "metadata": {
            "needs_background": "light"
          },
          "output_type": "display_data"
        },
        {
          "data": {
            "image/png": "[encoded data removed]",
            "text/plain": [
              "<Figure size 864x792 with 1 Axes>"
            ]
          },
          "metadata": {
            "needs_background": "light"
          },
          "output_type": "display_data"
        },
        {
          "data": {
            "image/png": "[encoded data removed]",
            "text/plain": [
              "<Figure size 864x792 with 1 Axes>"
            ]
          },
          "metadata": {
            "needs_background": "light"
          },
          "output_type": "display_data"
        },
        {
          "data": {
            "image/png": "[encoded data removed]",
            "text/plain": [
              "<Figure size 864x792 with 1 Axes>"
            ]
          },
          "metadata": {
            "needs_background": "light"
          },
          "output_type": "display_data"
        },
        {
          "data": {
            "image/png": "[encoded data removed]",
            "text/plain": [
              "<Figure size 864x792 with 1 Axes>"
            ]
          },
          "metadata": {
            "needs_background": "light"
          },
          "output_type": "display_data"
        }
      ],
      "source": [
        "# NOTE: PTS vs Salary\n",
        "plt.figure(figsize=(12,11))\n",
        "plt.xlabel('PTS', fontsize= 15)\n",
        "plt.ylabel('Salary', fontsize= 15)\n",
        "sns.scatterplot(data=data, x='PTS', y='Salary',s=65,sizes=(30,100), palette='deep')\n",
        "plt.show()\n",
        "\n",
        "\n",
        "# NOTE: REB vs Salary\n",
        "plt.figure(figsize=(12,11))\n",
        "plt.xlabel('REB', fontsize= 15)\n",
        "plt.ylabel('Salary', fontsize= 15)\n",
        "sns.scatterplot(data=data, x='REB', y='Salary',s=65,sizes=(30,100), palette='deep')\n",
        "plt.show()\n",
        "\n",
        "\n",
        "# NOTE: AST vs Salary\n",
        "plt.figure(figsize=(12,11))\n",
        "plt.xlabel('AST', fontsize= 15)\n",
        "plt.ylabel('Salary', fontsize= 15)\n",
        "sns.scatterplot(data=data, x='AST', y='Salary',s=65,sizes=(30,100), palette='deep')\n",
        "plt.show()\n",
        "\n",
        "# NOTE: STL vs Salary\n",
        "plt.figure(figsize=(12,11))\n",
        "plt.xlabel('STL', fontsize= 15)\n",
        "plt.ylabel('Salary', fontsize= 15)\n",
        "sns.scatterplot(data=data, x='STL', y='Salary',s=65,sizes=(30,100), palette='deep')\n",
        "plt.show()\n",
        "\n",
        "# NOTE: BLK vs SALARY\n",
        "plt.figure(figsize=(12,11))\n",
        "plt.xlabel('BLK', fontsize= 15)\n",
        "plt.ylabel('Salary', fontsize= 15)\n",
        "sns.scatterplot(data=data, x='BLK', y='Salary',s=65,sizes=(30,100), palette='deep')\n",
        "plt.show()"
      ]
    },
    {
      "cell_type": "markdown",
      "id": "bbf0fe81-4aed-4dd9-8500-0919b4ec1e07",
      "metadata": {
        "id": "bbf0fe81-4aed-4dd9-8500-0919b4ec1e07"
      },
      "source": [
        "#### What can we say about these distributions?"
      ]
    },
    {
      "cell_type": "markdown",
      "id": "36cc6b14",
      "metadata": {},
      "source": [
        "- Points vs Salary: We see a clear positive correlation between the feature (Points) and the target value (Salary). As a player, the more points you make, greater the salary you'll earn. The points has the strongest correlation against Salary. In this case, the salary explains very well the points per game for every player.\n",
        "- Reb vs Salary: There is a good correlation until the 6 rebs per game. After 6 rebs, the correlation dilutes. \n",
        "- Asist vs Salary: We don't see any correlation worth to study or observe. In the firsts mean values it seems to be a modest correlation (=> 0.5). \n",
        "- STLs / BLKs vs Salary: There is no correlation between these variables. Both are independent on the distribution against Salary."
      ]
    },
    {
      "cell_type": "markdown",
      "id": "17735366-22bf-4cd8-a392-9dfb01652da0",
      "metadata": {
        "id": "17735366-22bf-4cd8-a392-9dfb01652da0"
      },
      "source": [
        "### Splitting the Dataset"
      ]
    },
    {
      "cell_type": "markdown",
      "id": "02450fb0-829c-420b-b65c-ea553a9a81a2",
      "metadata": {
        "id": "02450fb0-829c-420b-b65c-ea553a9a81a2"
      },
      "source": [
        "Split the dataset into train and testing sets. "
      ]
    },
    {
      "cell_type": "code",
      "execution_count": 6,
      "id": "d532e0fb-e478-48a0-971b-1ad1d428fe95",
      "metadata": {
        "id": "d532e0fb-e478-48a0-971b-1ad1d428fe95"
      },
      "outputs": [],
      "source": [
        "X = data.loc[:, data.columns != 'Salary']\n",
        "\n",
        "y = data['Salary']\n",
        "\n",
        "X_train, X_test, y_train, y_test = model_selection.train_test_split(X, y, test_size=0.20, random_state=42)\n"
      ]
    },
    {
      "cell_type": "markdown",
      "id": "6aec0deb-7efe-438c-8a4a-39f940aeb474",
      "metadata": {
        "id": "6aec0deb-7efe-438c-8a4a-39f940aeb474"
      },
      "source": [
        "### Baseline Model and Evaluation Metric"
      ]
    },
    {
      "cell_type": "markdown",
      "id": "71a7eb29-2bdf-4faf-93e9-3206dbc9cca2",
      "metadata": {
        "id": "71a7eb29-2bdf-4faf-93e9-3206dbc9cca2"
      },
      "source": [
        "We need an evaluation metric and a baseline model to see how well our models fit the data. For this project we will use [Mean Absolute Error](https://scikit-learn.org/stable/modules/generated/sklearn.metrics.mean_absolute_error.html#sklearn.metrics.mean_absolute_error) as our regression evaluation metric, because it is a really simple metric to interpret. A lower value means the model performs better. \n",
        "\n",
        "For this particular problem, we will always round the value, as we don't need decimals for this task."
      ]
    },
    {
      "cell_type": "markdown",
      "id": "cefd619d-e6b0-4e70-acf8-f0f4a90fe896",
      "metadata": {
        "id": "cefd619d-e6b0-4e70-acf8-f0f4a90fe896"
      },
      "source": [
        "Baseline model class that implements fit() and predict() methods. As this model will not consider any other variable, the fit method should only receive a list of all players salaries. The predict method should receive and iterable and return a numpy array with the same length but every element should have the same value (the average salary)"
      ]
    },
    {
      "cell_type": "code",
      "execution_count": 8,
      "id": "8ee01164-1ef2-44dc-8baa-74b630444577",
      "metadata": {
        "id": "8ee01164-1ef2-44dc-8baa-74b630444577"
      },
      "outputs": [],
      "source": [
        "class BaselineModel():\n",
        "  \"\"\"\n",
        "  A baseline model that always returns the same value, the mean of the \n",
        "  players salary in the train data\n",
        "  \"\"\"\n",
        "  def __init__(self):\n",
        "    self.trained_data = 0\n",
        "  \n",
        "  def fit(self, y_train):\n",
        "    \"\"\"\n",
        "    Fit the training data. \n",
        "    \n",
        "    Parameters\n",
        "    ----------\n",
        "    y_train: Union[pd.Series, np.ndarray]\n",
        "        a pandas series or numpy array containing salary information\n",
        "    \"\"\"\n",
        "    self.trained_data = round(y_train.mean())\n",
        "\n",
        "  \n",
        "  def predict(self, X):\n",
        "    \"\"\"\n",
        "    Predict salaries \n",
        "    \n",
        "    Parameters\n",
        "    ----------\n",
        "    X: Union[pd.DataFrame, pd.Series, np.ndarray]\n",
        "        a pandas series, dataframe or numpy array with the \n",
        "        \n",
        "    Returns\n",
        "    -------\n",
        "    np.ndarray\n",
        "        a numpy array of the same length as X, with all elements equal to \n",
        "        the mean salary calculated in fit()\n",
        "    \"\"\"\n",
        "    X = np.full(len(X),self.trained_data)\n",
        "\n",
        "    return X"
      ]
    },
    {
      "cell_type": "markdown",
      "id": "6a1a8134-48a4-4c66-84d2-39030242ef5f",
      "metadata": {
        "id": "6a1a8134-48a4-4c66-84d2-39030242ef5f"
      },
      "source": [
        "Evaluate the performance of our BaselineModel on the test set using mean_absolute_error from Sklearn (round the result)"
      ]
    },
    {
      "cell_type": "code",
      "execution_count": 18,
      "id": "fb72f39b-e7fc-4cd8-bd23-ee4407a80eed",
      "metadata": {
        "id": "fb72f39b-e7fc-4cd8-bd23-ee4407a80eed"
      },
      "outputs": [],
      "source": [
        "b_l_m = BaselineModel()\n",
        "\n",
        "# For this case we are using test set instead of validation set.\n",
        "\n",
        "b_l_m.fit(y_train)\n",
        "y_predicted = b_l_m.predict(X_test)\n",
        "\n",
        "baseline_mae = round(mean_absolute_error(y_test, y_predicted))"
      ]
    },
    {
      "cell_type": "code",
      "execution_count": 19,
      "id": "6c64f32d",
      "metadata": {},
      "outputs": [
        {
          "name": "stdout",
          "output_type": "stream",
          "text": [
            "Baseline MAE: 6948493\n"
          ]
        }
      ],
      "source": [
        "print(f'Baseline MAE: {baseline_mae}')"
      ]
    },
    {
      "cell_type": "markdown",
      "id": "fc4dff42-e36c-478d-bfd3-7541f3f36f16",
      "metadata": {
        "id": "fc4dff42-e36c-478d-bfd3-7541f3f36f16"
      },
      "source": [
        "### Regression with a single variable"
      ]
    },
    {
      "cell_type": "code",
      "execution_count": 16,
      "id": "173f1211-95e2-4bcb-ba7d-a40c516b4c24",
      "metadata": {
        "id": "173f1211-95e2-4bcb-ba7d-a40c516b4c24"
      },
      "outputs": [],
      "source": [
        "scaler = StandardScaler()\n",
        "\n",
        "\n",
        "X_train[['PTS']] = scaler.fit_transform(X_train[['PTS']])\n",
        "X_test[['PTS']] = scaler.transform(X_test[['PTS']])"
      ]
    },
    {
      "cell_type": "code",
      "execution_count": 20,
      "id": "15d198ad-a601-4722-937b-3be52090c8d1",
      "metadata": {
        "id": "15d198ad-a601-4722-937b-3be52090c8d1"
      },
      "outputs": [
        {
          "name": "stdout",
          "output_type": "stream",
          "text": [
            "4908976.27\n"
          ]
        },
        {
          "name": "stderr",
          "output_type": "stream",
          "text": [
            "c:\\Users\\Fede\\AppData\\Local\\Programs\\Python\\Python310\\lib\\site-packages\\sklearn\\base.py:450: UserWarning: X does not have valid feature names, but SGDRegressor was fitted with feature names\n",
            "  warnings.warn(\n"
          ]
        }
      ],
      "source": [
        "# Create the SGDR object\n",
        "sgd_regressor = linear_model.SGDRegressor()\n",
        "\n",
        "# Fit the function to our train datasets\n",
        "\n",
        "sgd_regressor.fit(X_train[['PTS']],y_train)\n",
        "\n",
        "# Predict values\n",
        "y_predicted = sgd_regressor.predict(X_test.PTS.values.reshape(-1,1))\n",
        "\n",
        "# Calculate the metric to evaluate performance\n",
        "default_mae = round(mean_absolute_error(y_test, y_predicted),2)\n",
        "print(default_mae)\n"
      ]
    },
    {
      "cell_type": "code",
      "execution_count": 30,
      "id": "9e1f26f4-1eb4-4ecc-bfc2-9d8583f00d0d",
      "metadata": {
        "id": "9e1f26f4-1eb4-4ecc-bfc2-9d8583f00d0d"
      },
      "outputs": [],
      "source": [
        "def best_simple_regression(max_iter: int, eta0: float) -> dict:\n",
        "  \"\"\"\n",
        "  Function that tries different configurations for the hyperparameters for training: epochs, learning rate and alpha. \n",
        "\n",
        "  For each combination of parameters, evaluate the trained algorithm on the test set, then save the results of each hyperparameter combination. \n",
        "\n",
        "  Finally select the one that has the best MAE (performance metric) and print the combination and the MAE.\n",
        "\n",
        "  Parameters\n",
        "  ------------------------------\n",
        "  max_iter: int\n",
        "  eta0: float\n",
        "  \n",
        "  Return\n",
        "  ------------------------------\n",
        "  result: dict\n",
        "  \"\"\"\n",
        "  result = {\n",
        "    \"hyperparameters\": {\"max_iter\": None, \"eta0\": None}, \n",
        "    \"mae\": None\n",
        "  }\n",
        "  # Find the best hyperparameters for our model\n",
        "  mae = math.inf\n",
        "  for max_iter_1 in max_iter:\n",
        "    print(f'Trying max_iter: {max_iter_1}')\n",
        "    for eta0_1 in eta0:\n",
        "      print(f'With {max_iter_1}, trying eta0: {eta0_1}')\n",
        "      sgd_regressor = linear_model.SGDRegressor(max_iter=max_iter_1,eta0=eta0_1,random_state=3)\n",
        "      sgd_regressor.fit(X_train[['PTS']],y_train)\n",
        "      to_predict = sgd_regressor.predict(X_test[['PTS']])\n",
        "      mae_sgdr = mean_absolute_error(y_test, to_predict)\n",
        "      print(f'With max_iter: {max_iter_1} and eta0: {eta0_1}: \\nMAE: {round(mae_sgdr,3)}')\n",
        "      print(\"\")\n",
        "      if mae_sgdr < mae:\n",
        "        mae = mae_sgdr\n",
        "        result = {\n",
        "        \"hyperparameters\": {\"max_iter\": max_iter_1, \"eta0\": eta0_1}, \n",
        "        \"mae\": round(mae_sgdr,3)\n",
        "      }\n",
        "      else:\n",
        "        break\n",
        "\n",
        "  return result"
      ]
    },
    {
      "cell_type": "code",
      "execution_count": 31,
      "id": "95ffbb3b-d161-4a29-9c48-eaff18b82412",
      "metadata": {
        "id": "95ffbb3b-d161-4a29-9c48-eaff18b82412"
      },
      "outputs": [
        {
          "name": "stdout",
          "output_type": "stream",
          "text": [
            "Trying max_iter: 1000\n",
            "With 1000, trying eta0: 0.0001\n",
            "With max_iter: 1000 and eta0: 0.0001: \n",
            "MAE: 4774100.224\n",
            "\n",
            "With 1000, trying eta0: 0.02050612244897959\n",
            "With max_iter: 1000 and eta0: 0.02050612244897959: \n",
            "MAE: 4923158.74\n",
            "\n",
            "Trying max_iter: 10000\n",
            "With 10000, trying eta0: 0.0001\n",
            "With max_iter: 10000 and eta0: 0.0001: \n",
            "MAE: 4909944.012\n",
            "\n",
            "Trying max_iter: 100000\n",
            "With 100000, trying eta0: 0.0001\n"
          ]
        },
        {
          "name": "stderr",
          "output_type": "stream",
          "text": [
            "c:\\Users\\Fede\\AppData\\Local\\Programs\\Python\\Python310\\lib\\site-packages\\sklearn\\linear_model\\_stochastic_gradient.py:1527: ConvergenceWarning: Maximum number of iteration reached before convergence. Consider increasing max_iter to improve the fit.\n",
            "  warnings.warn(\n"
          ]
        },
        {
          "name": "stdout",
          "output_type": "stream",
          "text": [
            "With max_iter: 100000 and eta0: 0.0001: \n",
            "MAE: 4909944.012\n",
            "\n",
            "Trying max_iter: 1000000\n",
            "With 1000000, trying eta0: 0.0001\n",
            "With max_iter: 1000000 and eta0: 0.0001: \n",
            "MAE: 4909944.012\n",
            "\n",
            "Trying max_iter: 10000000\n",
            "With 10000000, trying eta0: 0.0001\n",
            "With max_iter: 10000000 and eta0: 0.0001: \n",
            "MAE: 4909944.012\n",
            "\n",
            "Trying max_iter: 100000000\n",
            "With 100000000, trying eta0: 0.0001\n",
            "With max_iter: 100000000 and eta0: 0.0001: \n",
            "MAE: 4909944.012\n",
            "\n",
            "Best Hyperparameters for this regression {'hyperparameters': {'max_iter': 1000, 'eta0': 0.0001}, 'mae': 4774100.224}\n"
          ]
        }
      ],
      "source": [
        "# List/Array of hyperparameters to iterate over\n",
        "\n",
        "max_iter = [10**3, 10**4, 10**5, 10**6, 10**7, 10**8]\n",
        "\n",
        "eta0 = np.linspace(0.0001,1,num=50)\n",
        "\n",
        "result = best_simple_regression(max_iter, eta0)\n",
        "print('Best Hyperparameters for this regression', result)"
      ]
    },
    {
      "cell_type": "code",
      "execution_count": 32,
      "id": "aa909bcd",
      "metadata": {},
      "outputs": [],
      "source": [
        "# #: Regression with a single variable\n",
        "best_mae_uni = result['mae']\n",
        "best_max_iter_uni = result['hyperparameters']['max_iter']\n",
        "best_eta0_uni = result['hyperparameters']['eta0']"
      ]
    },
    {
      "attachments": {},
      "cell_type": "markdown",
      "id": "776e0c7a-d592-4479-aec6-870edff61def",
      "metadata": {
        "id": "776e0c7a-d592-4479-aec6-870edff61def"
      },
      "source": [
        "Let's compare the results of the baseline, the SGDRegressor with default parameters and the fine-tuned."
      ]
    },
    {
      "cell_type": "markdown",
      "id": "14e71ec1",
      "metadata": {},
      "source": [
        "- **As we can see, we could decrease the error (the space between predicted and truth values) by tunning the hyperparameters**"
      ]
    },
    {
      "cell_type": "code",
      "execution_count": 40,
      "id": "2e520ef6-52ed-48dc-8450-03031f3a03a6",
      "metadata": {
        "id": "2e520ef6-52ed-48dc-8450-03031f3a03a6"
      },
      "outputs": [
        {
          "name": "stdout",
          "output_type": "stream",
          "text": [
            "Mean Absolute Error for each model\n",
            "\n",
            "Baseline: 6948493\n",
            "Default SGDRegressor: 4908976.27\n",
            "Best SGDRegressor found with best_simple_regression(): 4774100.224\n"
          ]
        }
      ],
      "source": [
        "print(\"Mean Absolute Error for each model\")\n",
        "print(\"\")\n",
        "print(f\"Baseline: {baseline_mae}\")\n",
        "print(f\"Default SGDRegressor: {round(default_mae,2)}\")\n",
        "print(f\"Best SGDRegressor found with best_simple_regression():\", best_mae_uni)"
      ]
    },
    {
      "cell_type": "markdown",
      "id": "19e281ec-d578-496d-9f5d-897a2e1986a2",
      "metadata": {
        "id": "19e281ec-d578-496d-9f5d-897a2e1986a2"
      },
      "source": [
        "### Multivariate Linear Regression"
      ]
    },
    {
      "cell_type": "markdown",
      "id": "4ff24d36-439a-478f-b0de-0021223f6e99",
      "metadata": {
        "id": "4ff24d36-439a-478f-b0de-0021223f6e99"
      },
      "source": [
        "To improve our model, we will add more features to it. We will have to do some processing to our dataset to be able to use the data.\n",
        "Let's start with the following variables:"
      ]
    },
    {
      "cell_type": "markdown",
      "id": "247f4716-496a-4040-9519-77f7a6839691",
      "metadata": {
        "id": "247f4716-496a-4040-9519-77f7a6839691"
      },
      "source": [
        "- Points\n",
        "- Rebounds\n",
        "- Assists\n",
        "- Blocks\n",
        "- Experience\n",
        "- Position\n",
        "- Draft Number\n"
      ]
    },
    {
      "cell_type": "markdown",
      "id": "7958f7ec-45a0-4deb-bb79-3daa756dbcca",
      "metadata": {
        "id": "7958f7ec-45a0-4deb-bb79-3daa756dbcca"
      },
      "source": [
        "\n",
        "\n",
        "- [\"PTS\", \"REB\", \"AST\", \"BLK\", \"SEASON_EXP\", \"POSITION\", \"DRAFT_NUMBER\", \"SALARY\"]"
      ]
    },
    {
      "cell_type": "code",
      "execution_count": 41,
      "id": "64b265b4-d4e5-40a6-a9c3-cce920ecaa1b",
      "metadata": {
        "id": "64b265b4-d4e5-40a6-a9c3-cce920ecaa1b"
      },
      "outputs": [
        {
          "data": {
            "text/html": [
              "<div>\n",
              "<style scoped>\n",
              "    .dataframe tbody tr th:only-of-type {\n",
              "        vertical-align: middle;\n",
              "    }\n",
              "\n",
              "    .dataframe tbody tr th {\n",
              "        vertical-align: top;\n",
              "    }\n",
              "\n",
              "    .dataframe thead th {\n",
              "        text-align: right;\n",
              "    }\n",
              "</style>\n",
              "<table border=\"1\" class=\"dataframe\">\n",
              "  <thead>\n",
              "    <tr style=\"text-align: right;\">\n",
              "      <th></th>\n",
              "      <th>PTS</th>\n",
              "      <th>REB</th>\n",
              "      <th>AST</th>\n",
              "      <th>BLK</th>\n",
              "      <th>SEASON_EXP</th>\n",
              "      <th>POSITION</th>\n",
              "      <th>DRAFT_NUMBER</th>\n",
              "      <th>Salary</th>\n",
              "    </tr>\n",
              "    <tr>\n",
              "      <th>PERSON_ID</th>\n",
              "      <th></th>\n",
              "      <th></th>\n",
              "      <th></th>\n",
              "      <th></th>\n",
              "      <th></th>\n",
              "      <th></th>\n",
              "      <th></th>\n",
              "      <th></th>\n",
              "    </tr>\n",
              "  </thead>\n",
              "  <tbody>\n",
              "    <tr>\n",
              "      <th>1630173</th>\n",
              "      <td>6.5</td>\n",
              "      <td>5.1</td>\n",
              "      <td>0.8</td>\n",
              "      <td>0.5</td>\n",
              "      <td>1</td>\n",
              "      <td>Forward</td>\n",
              "      <td>20</td>\n",
              "      <td>2711280</td>\n",
              "    </tr>\n",
              "    <tr>\n",
              "      <th>203500</th>\n",
              "      <td>9.3</td>\n",
              "      <td>7.9</td>\n",
              "      <td>1.4</td>\n",
              "      <td>0.9</td>\n",
              "      <td>8</td>\n",
              "      <td>Center</td>\n",
              "      <td>12</td>\n",
              "      <td>17073171</td>\n",
              "    </tr>\n",
              "    <tr>\n",
              "      <th>1628389</th>\n",
              "      <td>13.2</td>\n",
              "      <td>8.2</td>\n",
              "      <td>3.5</td>\n",
              "      <td>0.9</td>\n",
              "      <td>4</td>\n",
              "      <td>Center</td>\n",
              "      <td>14</td>\n",
              "      <td>28103550</td>\n",
              "    </tr>\n",
              "  </tbody>\n",
              "</table>\n",
              "</div>"
            ],
            "text/plain": [
              "            PTS  REB  AST  BLK  SEASON_EXP POSITION DRAFT_NUMBER    Salary\n",
              "PERSON_ID                                                                 \n",
              "1630173     6.5  5.1  0.8  0.5           1  Forward           20   2711280\n",
              "203500      9.3  7.9  1.4  0.9           8   Center           12  17073171\n",
              "1628389    13.2  8.2  3.5  0.9           4   Center           14  28103550"
            ]
          },
          "execution_count": 41,
          "metadata": {},
          "output_type": "execute_result"
        }
      ],
      "source": [
        "# Create a copy of our initial DF\n",
        "mv_regression_df = data.copy()\n",
        "\n",
        "# PERSON_ID (player_id) as index\n",
        "mv_regression_df.set_index('PERSON_ID',inplace=True)\n",
        "\n",
        "# Select the following columns \n",
        "columns = [\"PTS\", \"REB\", \"AST\", \"BLK\", \"SEASON_EXP\", \"POSITION\", \"DRAFT_NUMBER\", \"Salary\"]\n",
        "\n",
        "# Pick our dataframe with only those we selected before.\n",
        "mv_regression_df = mv_regression_df[columns]\n",
        "mv_regression_df.head(3)"
      ]
    },
    {
      "cell_type": "markdown",
      "id": "4865eb6e-d85d-4283-a67c-93df46a5b72e",
      "metadata": {
        "id": "4865eb6e-d85d-4283-a67c-93df46a5b72e"
      },
      "source": [
        "#### Feature Engineering"
      ]
    },
    {
      "cell_type": "markdown",
      "id": "ec9b71e8-57aa-405a-8b3b-b0585a45d64d",
      "metadata": {
        "id": "ec9b71e8-57aa-405a-8b3b-b0585a45d64d"
      },
      "source": [
        "Binning the DRAFT_NUMBER feature. Draft position directly impacts salaries during the first few years, but second round players and undrafted players don't have guaranteed contracts. So we're gonna divide the bins like this: \n",
        "\n",
        "       - 1 to 15: firstround_lottery\n",
        "       - 15 to 30: firstround_non_lottery\n",
        "       - 30 to 60: second_round\n",
        "       - Undrafted: undrafted\n",
        "       "
      ]
    },
    {
      "cell_type": "code",
      "execution_count": 47,
      "id": "e117eb8e",
      "metadata": {},
      "outputs": [
        {
          "data": {
            "text/html": [
              "<div>\n",
              "<style scoped>\n",
              "    .dataframe tbody tr th:only-of-type {\n",
              "        vertical-align: middle;\n",
              "    }\n",
              "\n",
              "    .dataframe tbody tr th {\n",
              "        vertical-align: top;\n",
              "    }\n",
              "\n",
              "    .dataframe thead th {\n",
              "        text-align: right;\n",
              "    }\n",
              "</style>\n",
              "<table border=\"1\" class=\"dataframe\">\n",
              "  <thead>\n",
              "    <tr style=\"text-align: right;\">\n",
              "      <th></th>\n",
              "      <th>PTS</th>\n",
              "      <th>REB</th>\n",
              "      <th>AST</th>\n",
              "      <th>BLK</th>\n",
              "      <th>SEASON_EXP</th>\n",
              "      <th>POSITION</th>\n",
              "      <th>DRAFT_NUMBER</th>\n",
              "      <th>Salary</th>\n",
              "      <th>DRAFT</th>\n",
              "    </tr>\n",
              "    <tr>\n",
              "      <th>PERSON_ID</th>\n",
              "      <th></th>\n",
              "      <th></th>\n",
              "      <th></th>\n",
              "      <th></th>\n",
              "      <th></th>\n",
              "      <th></th>\n",
              "      <th></th>\n",
              "      <th></th>\n",
              "      <th></th>\n",
              "    </tr>\n",
              "  </thead>\n",
              "  <tbody>\n",
              "    <tr>\n",
              "      <th>1630173</th>\n",
              "      <td>6.5</td>\n",
              "      <td>5.1</td>\n",
              "      <td>0.8</td>\n",
              "      <td>0.5</td>\n",
              "      <td>1</td>\n",
              "      <td>Forward</td>\n",
              "      <td>20</td>\n",
              "      <td>2711280</td>\n",
              "      <td>firstround_non_lottery</td>\n",
              "    </tr>\n",
              "    <tr>\n",
              "      <th>203500</th>\n",
              "      <td>9.3</td>\n",
              "      <td>7.9</td>\n",
              "      <td>1.4</td>\n",
              "      <td>0.9</td>\n",
              "      <td>8</td>\n",
              "      <td>Center</td>\n",
              "      <td>12</td>\n",
              "      <td>17073171</td>\n",
              "      <td>firstround_lottery</td>\n",
              "    </tr>\n",
              "    <tr>\n",
              "      <th>1628389</th>\n",
              "      <td>13.2</td>\n",
              "      <td>8.2</td>\n",
              "      <td>3.5</td>\n",
              "      <td>0.9</td>\n",
              "      <td>4</td>\n",
              "      <td>Center</td>\n",
              "      <td>14</td>\n",
              "      <td>28103550</td>\n",
              "      <td>firstround_lottery</td>\n",
              "    </tr>\n",
              "  </tbody>\n",
              "</table>\n",
              "</div>"
            ],
            "text/plain": [
              "            PTS  REB  AST  BLK  SEASON_EXP POSITION  DRAFT_NUMBER    Salary  \\\n",
              "PERSON_ID                                                                     \n",
              "1630173     6.5  5.1  0.8  0.5           1  Forward            20   2711280   \n",
              "203500      9.3  7.9  1.4  0.9           8   Center            12  17073171   \n",
              "1628389    13.2  8.2  3.5  0.9           4   Center            14  28103550   \n",
              "\n",
              "                            DRAFT  \n",
              "PERSON_ID                          \n",
              "1630173    firstround_non_lottery  \n",
              "203500         firstround_lottery  \n",
              "1628389        firstround_lottery  "
            ]
          },
          "execution_count": 47,
          "metadata": {},
          "output_type": "execute_result"
        }
      ],
      "source": [
        "# Replace Undrafted with 0\n",
        "mv_regression_df['DRAFT_NUMBER'].replace('Undrafted',0,inplace=True)\n",
        "\n",
        "# Fill NaN with 0\n",
        "mv_regression_df.fillna(0,inplace=True)\n",
        "\n",
        "# Cast to integer\n",
        "mv_regression_df.loc[:,'DRAFT_NUMBER'] = mv_regression_df['DRAFT_NUMBER'].astype(int)\n",
        "\n",
        "# Bins\n",
        "bins = [0,1,15,30,60]\n",
        "\n",
        "# List of labels \n",
        "labels = ['undrafted','firstround_lottery','firstround_non_lottery','second_round']\n",
        "\n",
        "\n",
        "mv_regression_df['DRAFT'] = pd.cut(mv_regression_df['DRAFT_NUMBER'], bins=bins, include_lowest=True ,labels=labels)\n",
        "mv_regression_df.head(3)"
      ]
    },
    {
      "cell_type": "markdown",
      "id": "37a55237-cb04-4c38-bef3-8c363f9dbe5c",
      "metadata": {
        "id": "37a55237-cb04-4c38-bef3-8c363f9dbe5c"
      },
      "source": [
        "Encode the categorical features: DRAFT, POSITION"
      ]
    },
    {
      "cell_type": "code",
      "execution_count": 49,
      "id": "c565394e-5d44-4418-a33b-eaa801062dbc",
      "metadata": {
        "id": "c565394e-5d44-4418-a33b-eaa801062dbc"
      },
      "outputs": [],
      "source": [
        "mv_regression_df = pd.get_dummies(data=mv_regression_df,columns=['DRAFT','POSITION'], drop_first=True)"
      ]
    },
    {
      "cell_type": "markdown",
      "id": "9816d9d4-b44d-4bb7-9cad-156daee9dc50",
      "metadata": {
        "id": "9816d9d4-b44d-4bb7-9cad-156daee9dc50"
      },
      "source": [
        "#### Modeling"
      ]
    },
    {
      "cell_type": "markdown",
      "id": "1eb528f1-852e-428e-b97c-40b412985f98",
      "metadata": {
        "id": "1eb528f1-852e-428e-b97c-40b412985f98"
      },
      "source": [
        "Split the dataset into train and test. "
      ]
    },
    {
      "cell_type": "code",
      "execution_count": 59,
      "id": "7696efd0-94f8-49ce-846f-4fd24a01b0fd",
      "metadata": {
        "id": "7696efd0-94f8-49ce-846f-4fd24a01b0fd"
      },
      "outputs": [],
      "source": [
        "X = mv_regression_df.loc[:, (mv_regression_df.columns != 'Salary') & (mv_regression_df.columns != 'DRAFT_NUMBER')]\n",
        "\n",
        "y = mv_regression_df['Salary']\n",
        "\n",
        "X_train, X_test, y_train, y_test = model_selection.train_test_split(X, y, test_size=0.20, random_state=42)"
      ]
    },
    {
      "cell_type": "markdown",
      "id": "b2540df8-ac16-4ad1-b8cf-028f566faa06",
      "metadata": {
        "id": "b2540df8-ac16-4ad1-b8cf-028f566faa06"
      },
      "source": [
        "Feature scaling in all the numerical features (\"PTS\", \"REB\", \"AST\", \"BLK\", \"SEASON_EXP\") except for draft number."
      ]
    },
    {
      "cell_type": "code",
      "execution_count": 61,
      "id": "94c1b356-8f74-4a20-8b9d-9dd61b6e3dec",
      "metadata": {
        "id": "94c1b356-8f74-4a20-8b9d-9dd61b6e3dec"
      },
      "outputs": [],
      "source": [
        "scaler = StandardScaler()\n",
        "\n",
        "# Scale data (fit & transform) in X_train dataset\n",
        "\n",
        "X_train[[\"PTS\", \"REB\", \"AST\", \"BLK\", \"SEASON_EXP\"]] = scaler.fit_transform(X_train[[\"PTS\", \"REB\", \"AST\", \"BLK\", \"SEASON_EXP\"]])\n",
        "\n",
        "# Idem with X_test\n",
        "\n",
        "X_test[[\"PTS\", \"REB\", \"AST\", \"BLK\", \"SEASON_EXP\"]] = scaler.transform(X_test[[\"PTS\", \"REB\", \"AST\", \"BLK\", \"SEASON_EXP\"]])\n"
      ]
    },
    {
      "cell_type": "code",
      "execution_count": 62,
      "id": "7d8642f3-895c-4d8d-85b7-80a087a0adef",
      "metadata": {
        "id": "7d8642f3-895c-4d8d-85b7-80a087a0adef"
      },
      "outputs": [],
      "source": [
        "def best_mv_regression(max_iter, eta0):\n",
        "  result_mv = {\n",
        "    \"hyperparameters\": {\"max_iter\": None, \"eta0\": None}, \n",
        "    \"mae\": None\n",
        "  }\n",
        "  mae = math.inf\n",
        "  for max_iter_1 in max_iter:\n",
        "    print(f'Trying max_iter: {max_iter_1}')\n",
        "    for eta0_1 in eta0:\n",
        "      print(f'With {max_iter_1}, trying eta0: {eta0_1}')\n",
        "      sgd_regressor = linear_model.SGDRegressor(max_iter=max_iter_1,eta0=eta0_1,random_state=7)\n",
        "      sgd_regressor.fit(X_train,y_train)\n",
        "      y_predicted = sgd_regressor.predict(X_test)\n",
        "      mae_sgdr = mean_absolute_error(y_test, y_predicted)\n",
        "      print(f'With max_iter: {max_iter_1} and eta0: {eta0_1}: \\nMAE: {round(mae_sgdr,3)}')\n",
        "      print(\"\")\n",
        "      if mae_sgdr < mae:\n",
        "        mae = mae_sgdr\n",
        "        result_mv = {\n",
        "        \"hyperparameters\": {\"max_iter\": max_iter_1, \"eta0\": eta0_1}, \n",
        "        \"mae\": round(mae_sgdr,2)\n",
        "      }\n",
        "\n",
        "  return result_mv"
      ]
    },
    {
      "cell_type": "code",
      "execution_count": 63,
      "id": "a2688875",
      "metadata": {},
      "outputs": [],
      "source": [
        "# Set space/values for hyperparameters to iterate\n",
        "\n",
        "max_iter = [10**3, 10**4, 10**5, 10**6, 10**7, 10**8]\n",
        "\n",
        "eta0 = np.linspace(0.0001,1,num=50)"
      ]
    },
    {
      "cell_type": "code",
      "execution_count": null,
      "id": "6ca72f97",
      "metadata": {},
      "outputs": [],
      "source": [
        "result_mv = best_mv_regression(max_iter, eta0)\n",
        "print(result_mv)"
      ]
    },
    {
      "cell_type": "code",
      "execution_count": 65,
      "id": "2108de73",
      "metadata": {},
      "outputs": [],
      "source": [
        "best_mae_mv = result_mv['mae']\n",
        "best_max_iter_mv = result_mv['hyperparameters']['max_iter']\n",
        "best_eta0_mv = result_mv['hyperparameters']['eta0']"
      ]
    },
    {
      "cell_type": "markdown",
      "id": "33d63bc7-448d-40a6-a314-6602c75e2284",
      "metadata": {
        "id": "33d63bc7-448d-40a6-a314-6602c75e2284"
      },
      "source": [
        "How did the model performed compared to our univariate models? "
      ]
    },
    {
      "cell_type": "code",
      "execution_count": 66,
      "id": "169eb203",
      "metadata": {},
      "outputs": [
        {
          "name": "stdout",
          "output_type": "stream",
          "text": [
            "Univariate model performed better against multivariate, with a MAE of 4774100.224\n",
            "The Multivariate MAE (4945258.49) is greater by 171158.27\n"
          ]
        }
      ],
      "source": [
        "print(f'Univariate model performed better against multivariate, with a MAE of {best_mae_uni}')\n",
        "print(f'The Multivariate MAE ({best_mae_mv}) is greater by {round((best_mae_mv - best_mae_uni),2)}')"
      ]
    },
    {
      "attachments": {},
      "cell_type": "markdown",
      "id": "e9992197-563b-4a69-9cd7-97fcb9ee3677",
      "metadata": {
        "id": "e9992197-563b-4a69-9cd7-97fcb9ee3677",
        "tags": []
      },
      "source": [
        "### DecisionTreeRegressor\n",
        "\n",
        "It is possible this problem might not be easily resolvable by a linear model, or that there could be better algorithms to tackle it. As an example, I'll grab a very used algorithm, Decision Tree."
      ]
    },
    {
      "cell_type": "code",
      "execution_count": 67,
      "id": "f54443e3",
      "metadata": {},
      "outputs": [],
      "source": [
        "dt_regression_df = mv_regression_df.copy()"
      ]
    },
    {
      "cell_type": "code",
      "execution_count": 68,
      "id": "023c5a29",
      "metadata": {},
      "outputs": [],
      "source": [
        "# #: Select features & labels and then split train/test datasets.\n",
        "\n",
        "X = dt_regression_df.loc[:, (dt_regression_df.columns != 'Salary') & (dt_regression_df.columns != 'DRAFT_NUMBER')]\n",
        "\n",
        "y = dt_regression_df['Salary']\n",
        "\n",
        "X_train, X_test, y_train, y_test = model_selection.train_test_split(X, y, test_size=0.20, random_state=35)"
      ]
    },
    {
      "cell_type": "code",
      "execution_count": 70,
      "id": "c69ac038",
      "metadata": {},
      "outputs": [],
      "source": [
        "# Instantiate DecisionTree with default hyperparameters\n",
        "d_tree = DecisionTreeRegressor()\n",
        "\n",
        "# Fit our model\n",
        "d_tree.fit(X_train,y_train)\n",
        "\n",
        "# Predict values\n",
        "y_predicted = d_tree.predict(X_test)\n",
        "\n",
        "d_tree_accuracy_score_model = d_tree.score(X_test,y_predicted)\n"
      ]
    },
    {
      "cell_type": "code",
      "execution_count": 76,
      "id": "182baad5",
      "metadata": {},
      "outputs": [],
      "source": [
        "def best_dt_regressor(max_depth: int, min_samples_leaf: int , max_features: int) -> dict:\n",
        "  result = {\n",
        "    \"hyperparameters\": {\"max_depth\": None, \"min_samples_leaf\": None, \"max_features\": None}, \n",
        "    \"mae\": None\n",
        "  }\n",
        "  mae = math.inf\n",
        "  for max_features_iter in max_features:\n",
        "      print(f'Trying max_features: {max_features_iter}')\n",
        "      for max_depth_iter in max_depth:\n",
        "        print(f'With max_features: {max_features_iter}, trying max_depth: {max_depth_iter}')\n",
        "        for min_samples_leaf_iter in min_samples_leaf:\n",
        "          print(f'With max_features {max_features_iter} and max_depth: {max_depth_iter}, trying min_samples_leaf: {min_samples_leaf_iter}')\n",
        "          d_tree = DecisionTreeRegressor(max_features=max_features_iter,max_depth=max_depth_iter,min_samples_leaf=min_samples_leaf_iter)\n",
        "          d_tree.fit(X_train,y_train)\n",
        "          y_predicted = d_tree.predict(X_test)\n",
        "          mae_sgdr = mean_absolute_error(y_test, y_predicted)\n",
        "          print(f'With max_features {max_features_iter}, max_depth: {max_depth_iter}, trying min_samples_leaf: {min_samples_leaf_iter} \\n MAE: {round(mae_sgdr,3)}')\n",
        "          print(\"\")\n",
        "          if mae_sgdr < mae:\n",
        "            mae = mae_sgdr\n",
        "            result = {\n",
        "            \"hyperparameters\": {\"max_depth\": max_depth_iter, \"min_samples_leaf\": min_samples_leaf_iter, \"max_features\": max_features_iter}, \n",
        "            \"Best MAE\": round(mae,2)\n",
        "          }\n",
        "\n",
        "  return result"
      ]
    },
    {
      "cell_type": "code",
      "execution_count": null,
      "id": "1776c34b",
      "metadata": {},
      "outputs": [],
      "source": [
        "# List of hyperparameter example values\n",
        "max_depth = [5, 10, 15, 20, 50] # Quantity of \"generations\"?\n",
        "min_samples_leaf = [2, 10, 20, 50] # Quantity of samples per \"children\"?\n",
        "max_features = [5, 10]\n",
        "\n",
        "result_dtree = best_dt_regressor(max_depth, min_samples_leaf,max_features)\n",
        "print(result_dtree)"
      ]
    },
    {
      "cell_type": "code",
      "execution_count": 79,
      "id": "c57389e2",
      "metadata": {},
      "outputs": [],
      "source": [
        "best_mae_dt = result_dtree['Best MAE']"
      ]
    },
    {
      "cell_type": "code",
      "execution_count": 80,
      "id": "af1084d8-97a4-4618-b4f4-0952e0b39f09",
      "metadata": {
        "id": "af1084d8-97a4-4618-b4f4-0952e0b39f09"
      },
      "outputs": [
        {
          "name": "stdout",
          "output_type": "stream",
          "text": [
            "Mean Absolute Error for each model\n",
            "\n",
            "Baseline: 6948493\n",
            "Default SGDRegressor: 4908976.27\n",
            "Best SGDRegressor found with best_simple_regression(): 4774100.224\n",
            "Best DTRegressor found with best_dt_regressor(): 3780848.65\n"
          ]
        }
      ],
      "source": [
        "print(\"Mean Absolute Error for each model\")\n",
        "print(\"\")\n",
        "print(f\"Baseline: {baseline_mae}\")\n",
        "print(f\"Default SGDRegressor: {round(default_mae,2)}\")\n",
        "print(f\"Best SGDRegressor found with best_simple_regression():\", best_mae_uni)\n",
        "print(f\"Best DTRegressor found with best_dt_regressor():\", best_mae_dt)\n"
      ]
    },
    {
      "cell_type": "markdown",
      "id": "ce424a87-37af-470d-9a14-ec6ae2258eb1",
      "metadata": {
        "id": "ce424a87-37af-470d-9a14-ec6ae2258eb1"
      },
      "source": [
        "### Analyzing our results"
      ]
    },
    {
      "cell_type": "markdown",
      "id": "e204456d-cb86-47a0-9c3c-6307d8a831fa",
      "metadata": {
        "id": "e204456d-cb86-47a0-9c3c-6307d8a831fa"
      },
      "source": [
        "Which kind of model worked better in this dataset, linear or non linear models? Do you have any hypothesis about why? "
      ]
    },
    {
      "cell_type": "markdown",
      "id": "5188dc61",
      "metadata": {},
      "source": [
        "- **Decision Tree** outperforms linear models. The non linear model work really good with this data layout. DTrees understand the behaviour between non-linear relations, make a comparisson between variables and pick the best outcome.     "
      ]
    },
    {
      "cell_type": "markdown",
      "id": "95ea5922",
      "metadata": {},
      "source": [
        "##### Tasks to improve model accuracy:\n",
        "1. Add more data: It's always a good idea to deliver more data in order to let our model learn more (be aware of overfitting).\n",
        "2. Special treatment to missing values and outliers: It's important to keep away any bias to our model. Missing values and outliers increase this risk.\n",
        "**A** Missing values: Replace those with median, mode or mean. \n",
        "**B** Outliers: Eliminate from the model. Try binning the data.\n",
        "3. Feature engineering: Our model (and humans also) extract information from data. Invest time and quality tasks to clean, sort, bin and normalize data. \n",
        "4. Scale data: Try differents scale algorithms and leverage the scaling.\n",
        "5. Feature selection: Observe and pick wisely the features. Plot data, gain insights and understand better what's happening about your variable distribution. \n",
        "\n",
        "\n",
        "    "
      ]
    },
    {
      "cell_type": "markdown",
      "id": "25e23c2a-a0bf-4d39-bc1b-9524107f3a02",
      "metadata": {
        "id": "25e23c2a-a0bf-4d39-bc1b-9524107f3a02",
        "tags": []
      },
      "source": [
        "### 2. Star or no Star? Predicting players All-NBA selections"
      ]
    },
    {
      "attachments": {},
      "cell_type": "markdown",
      "id": "26cd4fec-1b8b-4bfc-8024-dcdd5b8b803a",
      "metadata": {
        "id": "26cd4fec-1b8b-4bfc-8024-dcdd5b8b803a"
      },
      "source": [
        "- Being selected as part of the [All-NBA teams](https://en.wikipedia.org/wiki/All-NBA_Team) is different than being selected for [All-Star Game](https://en.wikipedia.org/wiki/NBA_All-Star_Game). \n",
        "- Here, we're going to predict All-NBA selections, which takes place after the regular season but before playoffs start, so we're only going to use players and teams statistics about the regular season. \n",
        "- All Star game takes place at the middle point of the regular season, players are selected based on partial season performance, and the general public has 50% of the votes, so it is also a more popularity-based award.\n",
        "- All-NBA teams are divided in first, second and third teams of 5 players each, divided by position: 2 front court players (guards), 2 backcourt players (forwards) and 1 center.\n",
        "- As only 15 players are selected to All-NBA teams each year (out of more than 400 qualifying players), our dataset is going to be imbalanced. We're going to have to find a good strategy to deal with this inbalance context."
      ]
    },
    {
      "cell_type": "markdown",
      "id": "ef2353fa-10d7-48d1-85d7-f8743ee86698",
      "metadata": {
        "id": "ef2353fa-10d7-48d1-85d7-f8743ee86698"
      },
      "source": [
        "#### Analyzing the data"
      ]
    },
    {
      "cell_type": "markdown",
      "id": "d4159ce5-fec3-48bb-93c5-058f2cbb55c5",
      "metadata": {
        "id": "d4159ce5-fec3-48bb-93c5-058f2cbb55c5"
      },
      "source": [
        "To do this task, we're going to need historical information about All-NBA selections. We'll use a dataset that contains information about players from season starting in 1990 and ending in the 2018-2019 season.\n",
        "The dataset contains statistics for all players, and a column named \"all-nba\" that is going to be our target variable, 1 means the player was selected to an All-NBA team that season."
      ]
    },
    {
      "cell_type": "code",
      "execution_count": 4,
      "id": "bb6725f6-418d-4159-b046-3bf33a8ead0b",
      "metadata": {
        "id": "bb6725f6-418d-4159-b046-3bf33a8ead0b"
      },
      "outputs": [],
      "source": [
        "all_nba_df = pd.read_csv(\"all_nba_1990_2017_dataset.csv\", index_col=0)"
      ]
    },
    {
      "cell_type": "code",
      "execution_count": 128,
      "id": "b9b595da",
      "metadata": {},
      "outputs": [
        {
          "name": "stdout",
          "output_type": "stream",
          "text": [
            "Total number of rows: 14825\n",
            "Total number of seasons: 39\n",
            "Total number of unique players: 2718\n",
            "Total NBA Players selected: 496 vs total NBA Players not selected: 14329\n"
          ]
        }
      ],
      "source": [
        "all_nba_selected = len(all_nba_df[all_nba_df['all_nba'] == 1])\n",
        "all_nba_not_selected = len(all_nba_df[all_nba_df['all_nba'] == 0])\n",
        "\n",
        "print(\"Total number of rows:\", len(all_nba_df.values))\n",
        "print(\"Total number of seasons:\", len(all_nba_df['season'].unique()))\n",
        "print(\"Total number of unique players:\", len(all_nba_df['player_id'].unique()))\n",
        "print(f\"Total NBA Players selected: {all_nba_selected} vs total NBA Players not selected: {all_nba_not_selected}\")"
      ]
    },
    {
      "cell_type": "code",
      "execution_count": 83,
      "id": "24575b27",
      "metadata": {},
      "outputs": [
        {
          "data": {
            "text/html": [
              "<div>\n",
              "<style scoped>\n",
              "    .dataframe tbody tr th:only-of-type {\n",
              "        vertical-align: middle;\n",
              "    }\n",
              "\n",
              "    .dataframe tbody tr th {\n",
              "        vertical-align: top;\n",
              "    }\n",
              "\n",
              "    .dataframe thead th {\n",
              "        text-align: right;\n",
              "    }\n",
              "</style>\n",
              "<table border=\"1\" class=\"dataframe\">\n",
              "  <thead>\n",
              "    <tr style=\"text-align: right;\">\n",
              "      <th></th>\n",
              "      <th>season_id</th>\n",
              "      <th>player_id</th>\n",
              "      <th>player_season</th>\n",
              "      <th>player</th>\n",
              "      <th>season</th>\n",
              "      <th>season_start</th>\n",
              "      <th>team</th>\n",
              "      <th>games</th>\n",
              "      <th>gamesstarted</th>\n",
              "      <th>mp</th>\n",
              "      <th>...</th>\n",
              "      <th>2p_perc</th>\n",
              "      <th>ft_perc</th>\n",
              "      <th>trb</th>\n",
              "      <th>ast</th>\n",
              "      <th>stl</th>\n",
              "      <th>blk</th>\n",
              "      <th>tov</th>\n",
              "      <th>pf</th>\n",
              "      <th>pts</th>\n",
              "      <th>all_nba</th>\n",
              "    </tr>\n",
              "  </thead>\n",
              "  <tbody>\n",
              "    <tr>\n",
              "      <th>0</th>\n",
              "      <td>0</td>\n",
              "      <td>0</td>\n",
              "      <td>1</td>\n",
              "      <td>Alaa Abdelnaby</td>\n",
              "      <td>1990-91</td>\n",
              "      <td>1990</td>\n",
              "      <td>POR</td>\n",
              "      <td>43</td>\n",
              "      <td>0</td>\n",
              "      <td>6.7</td>\n",
              "      <td>...</td>\n",
              "      <td>0.474</td>\n",
              "      <td>0.568</td>\n",
              "      <td>2.1</td>\n",
              "      <td>0.3</td>\n",
              "      <td>0.1</td>\n",
              "      <td>0.3</td>\n",
              "      <td>0.5</td>\n",
              "      <td>0.9</td>\n",
              "      <td>3.1</td>\n",
              "      <td>0</td>\n",
              "    </tr>\n",
              "    <tr>\n",
              "      <th>1</th>\n",
              "      <td>1</td>\n",
              "      <td>0</td>\n",
              "      <td>2</td>\n",
              "      <td>Alaa Abdelnaby</td>\n",
              "      <td>1991-92</td>\n",
              "      <td>1991</td>\n",
              "      <td>POR</td>\n",
              "      <td>71</td>\n",
              "      <td>1</td>\n",
              "      <td>13.2</td>\n",
              "      <td>...</td>\n",
              "      <td>0.493</td>\n",
              "      <td>0.752</td>\n",
              "      <td>3.7</td>\n",
              "      <td>0.4</td>\n",
              "      <td>0.4</td>\n",
              "      <td>0.2</td>\n",
              "      <td>0.9</td>\n",
              "      <td>1.9</td>\n",
              "      <td>6.1</td>\n",
              "      <td>0</td>\n",
              "    </tr>\n",
              "    <tr>\n",
              "      <th>2</th>\n",
              "      <td>2</td>\n",
              "      <td>0</td>\n",
              "      <td>3</td>\n",
              "      <td>Alaa Abdelnaby</td>\n",
              "      <td>1992-93</td>\n",
              "      <td>1992</td>\n",
              "      <td>TOT</td>\n",
              "      <td>75</td>\n",
              "      <td>52</td>\n",
              "      <td>17.5</td>\n",
              "      <td>...</td>\n",
              "      <td>0.519</td>\n",
              "      <td>0.759</td>\n",
              "      <td>4.5</td>\n",
              "      <td>0.4</td>\n",
              "      <td>0.3</td>\n",
              "      <td>0.3</td>\n",
              "      <td>1.3</td>\n",
              "      <td>2.5</td>\n",
              "      <td>7.7</td>\n",
              "      <td>0</td>\n",
              "    </tr>\n",
              "  </tbody>\n",
              "</table>\n",
              "<p>3 rows × 22 columns</p>\n",
              "</div>"
            ],
            "text/plain": [
              "   season_id  player_id  player_season          player   season  season_start  \\\n",
              "0          0          0              1  Alaa Abdelnaby  1990-91          1990   \n",
              "1          1          0              2  Alaa Abdelnaby  1991-92          1991   \n",
              "2          2          0              3  Alaa Abdelnaby  1992-93          1992   \n",
              "\n",
              "  team  games  gamesstarted    mp  ...  2p_perc  ft_perc  trb  ast  stl  blk  \\\n",
              "0  POR     43             0   6.7  ...    0.474    0.568  2.1  0.3  0.1  0.3   \n",
              "1  POR     71             1  13.2  ...    0.493    0.752  3.7  0.4  0.4  0.2   \n",
              "2  TOT     75            52  17.5  ...    0.519    0.759  4.5  0.4  0.3  0.3   \n",
              "\n",
              "   tov   pf  pts  all_nba  \n",
              "0  0.5  0.9  3.1        0  \n",
              "1  0.9  1.9  6.1        0  \n",
              "2  1.3  2.5  7.7        0  \n",
              "\n",
              "[3 rows x 22 columns]"
            ]
          },
          "execution_count": 83,
          "metadata": {},
          "output_type": "execute_result"
        }
      ],
      "source": [
        "all_nba_df.head(3)"
      ]
    },
    {
      "cell_type": "markdown",
      "id": "f268db59-8c9e-446b-be19-290e608169d2",
      "metadata": {
        "id": "f268db59-8c9e-446b-be19-290e608169d2"
      },
      "source": [
        "### Splitting the dataset"
      ]
    },
    {
      "cell_type": "code",
      "execution_count": 85,
      "id": "25cfc4ee-98e7-4b84-98d3-80a91fb44912",
      "metadata": {
        "id": "25cfc4ee-98e7-4b84-98d3-80a91fb44912"
      },
      "outputs": [],
      "source": [
        "columns = ['team', 'games', 'gamesstarted', 'mp', 'fg_perc', '3p_perc','2p_perc', 'ft_perc', 'trb', 'ast', 'stl', 'blk', 'tov', 'pf', 'pts']\n",
        "\n",
        "X = all_nba_df[columns]\n",
        "\n",
        "y = all_nba_df['all_nba']\n",
        "\n",
        "X_train, X_test, y_train, y_test = model_selection.train_test_split(X, y, test_size=0.30, random_state=17)"
      ]
    },
    {
      "cell_type": "markdown",
      "id": "7043db6e-da74-4a04-91d9-4dd0cd830f22",
      "metadata": {
        "id": "7043db6e-da74-4a04-91d9-4dd0cd830f22"
      },
      "source": [
        "### Baseline model and Evaluation Metrics"
      ]
    },
    {
      "cell_type": "code",
      "execution_count": 132,
      "id": "350ed4e7",
      "metadata": {},
      "outputs": [
        {
          "name": "stdout",
          "output_type": "stream",
          "text": [
            "Accuracy if the model always predict 0 (not being selected by all nba): \n",
            "96.7%\n"
          ]
        }
      ],
      "source": [
        "base_line_accuracy_allnba = 1 - np.sum(all_nba_df.all_nba)/all_nba_df.shape[0]\n",
        "print(f'Accuracy if the model always predict 0 (not being selected by all nba): \\n{round(base_line_accuracy_allnba,3)*100}%')"
      ]
    },
    {
      "cell_type": "code",
      "execution_count": 95,
      "id": "f9f85bfc",
      "metadata": {},
      "outputs": [
        {
          "data": {
            "image/png": "[encoded data removed]",
            "text/plain": [
              "<Figure size 504x360 with 1 Axes>"
            ]
          },
          "metadata": {
            "needs_background": "light"
          },
          "output_type": "display_data"
        }
      ],
      "source": [
        "f, ax = plt.subplots(figsize=(7, 5))\n",
        "sns.countplot(x='all_nba', data=all_nba_df)\n",
        "_ = plt.title('All NBA Selected')\n",
        "_ = plt.xlabel('Selection')"
      ]
    },
    {
      "cell_type": "markdown",
      "id": "7b86a780",
      "metadata": {},
      "source": [
        "- Our dataset es very imbalanced, about 96.7 % of our data refers to the non-selected players."
      ]
    },
    {
      "cell_type": "code",
      "execution_count": 96,
      "id": "e4d2a505-f193-4b94-89c3-56cba2c4db54",
      "metadata": {
        "id": "e4d2a505-f193-4b94-89c3-56cba2c4db54"
      },
      "outputs": [],
      "source": [
        "scaler = StandardScaler()\n",
        "\n",
        "X_train.loc[:, (X_train.columns != 'team')] = scaler.fit_transform(X_train.loc[:, (X_train.columns != 'team')])\n",
        "\n",
        "\n",
        "X_test.loc[:, (X_test.columns != 'team')] = scaler.transform(X_test.loc[:, (X_test.columns != 'team')])"
      ]
    },
    {
      "cell_type": "code",
      "execution_count": 97,
      "id": "6f9ffef5-6333-481e-816f-9125c95fe117",
      "metadata": {
        "id": "6f9ffef5-6333-481e-816f-9125c95fe117"
      },
      "outputs": [
        {
          "data": {
            "text/html": [
              "<style>#sk-container-id-1 {color: black;background-color: white;}#sk-container-id-1 pre{padding: 0;}#sk-container-id-1 div.sk-toggleable {background-color: white;}#sk-container-id-1 label.sk-toggleable__label {cursor: pointer;display: block;width: 100%;margin-bottom: 0;padding: 0.3em;box-sizing: border-box;text-align: center;}#sk-container-id-1 label.sk-toggleable__label-arrow:before {content: \"▸\";float: left;margin-right: 0.25em;color: #696969;}#sk-container-id-1 label.sk-toggleable__label-arrow:hover:before {color: black;}#sk-container-id-1 div.sk-estimator:hover label.sk-toggleable__label-arrow:before {color: black;}#sk-container-id-1 div.sk-toggleable__content {max-height: 0;max-width: 0;overflow: hidden;text-align: left;background-color: #f0f8ff;}#sk-container-id-1 div.sk-toggleable__content pre {margin: 0.2em;color: black;border-radius: 0.25em;background-color: #f0f8ff;}#sk-container-id-1 input.sk-toggleable__control:checked~div.sk-toggleable__content {max-height: 200px;max-width: 100%;overflow: auto;}#sk-container-id-1 input.sk-toggleable__control:checked~label.sk-toggleable__label-arrow:before {content: \"▾\";}#sk-container-id-1 div.sk-estimator input.sk-toggleable__control:checked~label.sk-toggleable__label {background-color: #d4ebff;}#sk-container-id-1 div.sk-label input.sk-toggleable__control:checked~label.sk-toggleable__label {background-color: #d4ebff;}#sk-container-id-1 input.sk-hidden--visually {border: 0;clip: rect(1px 1px 1px 1px);clip: rect(1px, 1px, 1px, 1px);height: 1px;margin: -1px;overflow: hidden;padding: 0;position: absolute;width: 1px;}#sk-container-id-1 div.sk-estimator {font-family: monospace;background-color: #f0f8ff;border: 1px dotted black;border-radius: 0.25em;box-sizing: border-box;margin-bottom: 0.5em;}#sk-container-id-1 div.sk-estimator:hover {background-color: #d4ebff;}#sk-container-id-1 div.sk-parallel-item::after {content: \"\";width: 100%;border-bottom: 1px solid gray;flex-grow: 1;}#sk-container-id-1 div.sk-label:hover label.sk-toggleable__label {background-color: #d4ebff;}#sk-container-id-1 div.sk-serial::before {content: \"\";position: absolute;border-left: 1px solid gray;box-sizing: border-box;top: 0;bottom: 0;left: 50%;z-index: 0;}#sk-container-id-1 div.sk-serial {display: flex;flex-direction: column;align-items: center;background-color: white;padding-right: 0.2em;padding-left: 0.2em;position: relative;}#sk-container-id-1 div.sk-item {position: relative;z-index: 1;}#sk-container-id-1 div.sk-parallel {display: flex;align-items: stretch;justify-content: center;background-color: white;position: relative;}#sk-container-id-1 div.sk-item::before, #sk-container-id-1 div.sk-parallel-item::before {content: \"\";position: absolute;border-left: 1px solid gray;box-sizing: border-box;top: 0;bottom: 0;left: 50%;z-index: -1;}#sk-container-id-1 div.sk-parallel-item {display: flex;flex-direction: column;z-index: 1;position: relative;background-color: white;}#sk-container-id-1 div.sk-parallel-item:first-child::after {align-self: flex-end;width: 50%;}#sk-container-id-1 div.sk-parallel-item:last-child::after {align-self: flex-start;width: 50%;}#sk-container-id-1 div.sk-parallel-item:only-child::after {width: 0;}#sk-container-id-1 div.sk-dashed-wrapped {border: 1px dashed gray;margin: 0 0.4em 0.5em 0.4em;box-sizing: border-box;padding-bottom: 0.4em;background-color: white;}#sk-container-id-1 div.sk-label label {font-family: monospace;font-weight: bold;display: inline-block;line-height: 1.2em;}#sk-container-id-1 div.sk-label-container {text-align: center;}#sk-container-id-1 div.sk-container {/* jupyter's `normalize.less` sets `[hidden] { display: none; }` but bootstrap.min.css set `[hidden] { display: none !important; }` so we also need the `!important` here to be able to override the default hidden behavior on the sphinx rendered scikit-learn.org. See: https://github.com/scikit-learn/scikit-learn/issues/21755 */display: inline-block !important;position: relative;}#sk-container-id-1 div.sk-text-repr-fallback {display: none;}</style><div id=\"sk-container-id-1\" class=\"sk-top-container\"><div class=\"sk-text-repr-fallback\"><pre>LogisticRegression()</pre><b>In a Jupyter environment, please rerun this cell to show the HTML representation or trust the notebook. <br />On GitHub, the HTML representation is unable to render, please try loading this page with nbviewer.org.</b></div><div class=\"sk-container\" hidden><div class=\"sk-item\"><div class=\"sk-estimator sk-toggleable\"><input class=\"sk-toggleable__control sk-hidden--visually\" id=\"sk-estimator-id-1\" type=\"checkbox\" checked><label for=\"sk-estimator-id-1\" class=\"sk-toggleable__label sk-toggleable__label-arrow\">LogisticRegression</label><div class=\"sk-toggleable__content\"><pre>LogisticRegression()</pre></div></div></div></div></div>"
            ],
            "text/plain": [
              "LogisticRegression()"
            ]
          },
          "execution_count": 97,
          "metadata": {},
          "output_type": "execute_result"
        }
      ],
      "source": [
        "logistic_regressor = LogisticRegression()\n",
        "\n",
        "logistic_regressor.fit(X_train.loc[:, (X_train.columns != 'team')],y_train)"
      ]
    },
    {
      "cell_type": "markdown",
      "id": "0f06758a-f2dd-4339-b170-275b428fdb4e",
      "metadata": {
        "id": "0f06758a-f2dd-4339-b170-275b428fdb4e"
      },
      "source": [
        "- Let's Evaluate our baseline model using this metrics: \n",
        "\n",
        "    - accuracy\n",
        "    - precision\n",
        "    - recall\n",
        "    - f1"
      ]
    },
    {
      "cell_type": "code",
      "execution_count": 133,
      "id": "b953324f-f7ae-4823-a801-f06d27d6eb43",
      "metadata": {
        "id": "b953324f-f7ae-4823-a801-f06d27d6eb43"
      },
      "outputs": [
        {
          "name": "stdout",
          "output_type": "stream",
          "text": [
            "\n",
            "Evaluation of the baseline classifier:\n",
            "\n",
            "Accuracy: 0.984\n",
            "Precision: 0.788\n",
            "Recall: 0.669\n",
            "F1: 0.724\n"
          ]
        }
      ],
      "source": [
        "# #: Excluiding 'team' from datasets\n",
        "print(\"\")\n",
        "print('Evaluation of the baseline classifier:')\n",
        "print(\"\")\n",
        "\n",
        "y_predicted = logistic_regressor.predict(X_test.loc[:, (X_test.columns != 'team')])\n",
        "\n",
        "# #: Accuracy\n",
        "\n",
        "blm_accuracy = accuracy_score(y_test,y_predicted)\n",
        "print(f'Accuracy: {round(blm_accuracy,3)}')\n",
        "\n",
        "# #: Precision\n",
        "\n",
        "blm_precision = precision_score(y_test,y_predicted)\n",
        "print(f'Precision: {round(blm_precision,3)}')\n",
        "\n",
        "# #: Recall -> The ability of the classifier to find all the POSITIVE samples. In other words, how well detects the True Positives.\n",
        "\n",
        "blm_recall = recall_score(y_test,y_predicted)\n",
        "print(f'Recall: {round(blm_recall,3)}')\n",
        "\n",
        "# #: F1\n",
        "\n",
        "blm_f1 = f1_score(y_test,y_predicted)\n",
        "print(f'F1: {round(blm_f1,3)}')\n"
      ]
    },
    {
      "cell_type": "markdown",
      "id": "2054a43f-55ec-45fc-9ead-a7699d8aa2b0",
      "metadata": {
        "id": "2054a43f-55ec-45fc-9ead-a7699d8aa2b0"
      },
      "source": [
        "### Classification"
      ]
    },
    {
      "cell_type": "markdown",
      "id": "1e2847f3-f02c-4308-8a0c-41ba79af0781",
      "metadata": {
        "id": "1e2847f3-f02c-4308-8a0c-41ba79af0781"
      },
      "source": [
        "#### Feature engineering"
      ]
    },
    {
      "cell_type": "markdown",
      "id": "27b6ddb3-576c-4238-9ec3-534aafee764b",
      "metadata": {
        "id": "27b6ddb3-576c-4238-9ec3-534aafee764b"
      },
      "source": [
        "One hot encode the Team feature"
      ]
    },
    {
      "cell_type": "code",
      "execution_count": 134,
      "id": "f4ca83ec-7aab-4cff-8ac7-1b224ff54dde",
      "metadata": {
        "id": "f4ca83ec-7aab-4cff-8ac7-1b224ff54dde"
      },
      "outputs": [],
      "source": [
        "# Encode X_train in team column\n",
        "\n",
        "X_train = pd.get_dummies(data=X_train, columns=['team'])"
      ]
    },
    {
      "cell_type": "code",
      "execution_count": 135,
      "id": "d8484c88",
      "metadata": {},
      "outputs": [],
      "source": [
        "# Encode X_test in team column\n",
        "\n",
        "X_test = pd.get_dummies(data=X_test,columns=['team'])"
      ]
    },
    {
      "cell_type": "code",
      "execution_count": 136,
      "id": "e7a96b18",
      "metadata": {},
      "outputs": [],
      "source": [
        "# Drop team_TOT \n",
        "\n",
        "X_train.drop(columns=['team_TOT'], inplace=True)\n",
        "X_test.drop(columns=['team_TOT'], inplace=True)"
      ]
    },
    {
      "cell_type": "markdown",
      "id": "6592c6c0-7ec8-49ac-936c-2d0fb84ccfef",
      "metadata": {
        "id": "6592c6c0-7ec8-49ac-936c-2d0fb84ccfef",
        "tags": []
      },
      "source": [
        "#### Modeling"
      ]
    },
    {
      "cell_type": "code",
      "execution_count": 137,
      "id": "4bdc4abf-ded3-4d8b-9170-c1d5b4951ba7",
      "metadata": {
        "id": "4bdc4abf-ded3-4d8b-9170-c1d5b4951ba7"
      },
      "outputs": [],
      "source": [
        "def search_best_hypers_logistic(tol: float, C: float, max_iter: int) -> dict:\n",
        "  \"\"\"\n",
        "  Train a logistic regresion model, find the best hyperparameters for: tols, C and max_iter. \n",
        "  \n",
        "  F1 score based as eval metric, but report also precision and recall. \n",
        "  \n",
        "  Save the best performing model to use.\n",
        "\n",
        "  Parameters\n",
        "  ---------------------\n",
        "  tol: float\n",
        "  C: float\n",
        "  max_iter: int\n",
        "\n",
        "  Returns\n",
        "  ---------------------\n",
        "  result_lr: dict\n",
        "\n",
        "  \"\"\"\n",
        "  result_lr = {\n",
        "    \"hyperparameters\": {\"tol\": None, \"C\": None, \"max_iter\": None}, \n",
        "    \"f1_score\": None\n",
        "  }\n",
        "  best_f1_score = 0\n",
        "  for tol_iter in tol:\n",
        "\n",
        "    print(f'Trying tol: {tol_iter}')\n",
        "\n",
        "    for C_iter in C:\n",
        "\n",
        "      print(f'With {tol_iter}, trying C: {C_iter}')\n",
        "\n",
        "      for max_iter_1 in max_iter:\n",
        "\n",
        "        print(f'With {tol_iter} and C: {C_iter}, trying {max_iter_1}')\n",
        "\n",
        "        logistic_regressor = LogisticRegression(tol=tol_iter, C= C_iter, max_iter=max_iter_1)\n",
        "        logistic_regressor.fit(X_train,y_train)\n",
        "        y_predicted = logistic_regressor.predict(X_test)\n",
        "\n",
        "        f1 = f1_score(y_test, y_predicted)\n",
        "        best_lr_precision = precision_score(y_test,y_predicted)\n",
        "        print(f'Precision: {round(best_lr_precision,3)}')\n",
        "\n",
        "        best_lr_recall = recall_score(y_test,y_predicted)\n",
        "        print(f'Recall: {round(best_lr_recall,3)}')\n",
        "\n",
        "        print(f'With {tol_iter} and C: {C_iter}, trying {max_iter_1} \\n  F1 LEARNED: {f1}')\n",
        "        if best_f1_score < f1:\n",
        "          best_f1_score = f1\n",
        "          result_lr = {\n",
        "          \"hyperparameters\": {\"tol\": tol_iter, \"C\": C_iter, \"max_iter_1\": max_iter_1}, \n",
        "          \"f1_score\": round(f1,2), \"Precision Score\" : round(best_lr_precision,3), \"Recall\": round(best_lr_recall,3)\n",
        "        }\n",
        "\n",
        "  return result_lr"
      ]
    },
    {
      "cell_type": "code",
      "execution_count": null,
      "id": "c3b89ea7",
      "metadata": {},
      "outputs": [],
      "source": [
        "tol = np.linspace(0.0001,1,num=50)\n",
        "C = [0.001, 0.01, 0.1, 1, 10, 100, 1000]\n",
        "max_iter = [10**3, 10**4, 10**5, 10**6, 10**7, 10**8]\n",
        "\n",
        "\n",
        "result_lr = search_best_hypers_logistic(tol, C, max_iter)"
      ]
    },
    {
      "cell_type": "code",
      "execution_count": 139,
      "id": "8e1a7aa1",
      "metadata": {},
      "outputs": [
        {
          "name": "stdout",
          "output_type": "stream",
          "text": [
            "{'hyperparameters': {'tol': 0.0001, 'C': 1, 'max_iter_1': 1000}, 'f1_score': 0.75, 'Precision Score': 0.808, 'Recall': 0.698}\n"
          ]
        }
      ],
      "source": [
        "print(result_lr)"
      ]
    },
    {
      "cell_type": "markdown",
      "id": "45c0c3bd-b431-40f1-abbb-4e90b7479411",
      "metadata": {
        "id": "45c0c3bd-b431-40f1-abbb-4e90b7479411"
      },
      "source": [
        "#### Evaluating on New Data"
      ]
    },
    {
      "cell_type": "code",
      "execution_count": 140,
      "id": "da0dcf05",
      "metadata": {},
      "outputs": [],
      "source": [
        "best_tol_lr= result_lr['hyperparameters']['tol']\n",
        "best_C_lr = result_lr['hyperparameters']['C']\n",
        "best_max_iter_lr = result_lr['hyperparameters']['max_iter_1']\n",
        "best_f1_lr = result_lr['f1_score']"
      ]
    },
    {
      "cell_type": "code",
      "execution_count": 8,
      "id": "79ea153a-b061-4df9-9c3d-1aaa0526c700",
      "metadata": {
        "id": "79ea153a-b061-4df9-9c3d-1aaa0526c700"
      },
      "outputs": [],
      "source": [
        "all_nba_2018_df = pd.read_csv('all_nba_2018_dataset.csv', index_col=0)\n",
        "all_nba_2018_selections = pd.read_csv('all_nba_2018_selections.csv', index_col=0)"
      ]
    },
    {
      "cell_type": "code",
      "execution_count": 142,
      "id": "14b936f3",
      "metadata": {},
      "outputs": [],
      "source": [
        "# #: Define columns to not use\n",
        "columns_unused = ['season_id', 'player_id', 'player_season', 'player', 'season', 'season_start','team']"
      ]
    },
    {
      "cell_type": "code",
      "execution_count": 143,
      "id": "8dc93828",
      "metadata": {},
      "outputs": [],
      "source": [
        "# Scale just numerical features\n",
        "\n",
        "all_nba_2018_df.loc[:, ~all_nba_2018_df.columns.isin(columns_unused)] = scaler.transform(all_nba_2018_df.loc[:, ~all_nba_2018_df.columns.isin(columns_unused)])"
      ]
    },
    {
      "cell_type": "code",
      "execution_count": 144,
      "id": "6d0d2962",
      "metadata": {},
      "outputs": [],
      "source": [
        "# Pick 40 teams\n",
        "teams_full = pd.DataFrame(all_nba_df.team.unique())\n",
        "\n",
        "# Pick 30 teams\n",
        "teams_2018 = pd.DataFrame(all_nba_2018_df['team'].unique()) \n",
        "\n",
        "# Merge to obtain full 40 teams \n",
        "intersection = pd.merge(teams_full, teams_2018, how='outer', indicator=True) \n",
        "\n",
        "# Pick the 10 extra teams\n",
        "antijoin = intersection[~(intersection['_merge']=='both')].drop('_merge', axis=1) \n",
        "\n",
        "# Create a df with those extra teams\n",
        "ten_teams_new = pd.DataFrame(antijoin,  columns=antijoin) \n",
        "\n",
        "# Fill empty rows with 0\n",
        "ten_teams_new.fillna(0,inplace=True)\n",
        "\n",
        "# Convert rows (names of teams) in columns\n",
        "for column in ten_teams_new.columns: \n",
        "    all_nba_2018_df[column] = ten_teams_new[column] "
      ]
    },
    {
      "cell_type": "code",
      "execution_count": 145,
      "id": "0471ba31",
      "metadata": {},
      "outputs": [],
      "source": [
        "# Encode 40 teams, drop rows with Nan values and columns we don't need.\n",
        "\n",
        "# Encode teams\n",
        "all_nba_2018_df = pd.get_dummies(data=all_nba_2018_df, columns=['team']) \n",
        "\n",
        "# Drop team_TOT to best fit the model\n",
        "all_nba_2018_df.drop(columns=['team_TOT'], inplace=True) \n",
        "\n",
        "# fill with 0 empty rows\n",
        "all_nba_2018_df.fillna(0,inplace=True) \n",
        "\n",
        "# pick just what you need\n",
        "all_nba_2018_df = all_nba_2018_df.loc[:, ~all_nba_2018_df.columns.isin(columns_unused)] "
      ]
    },
    {
      "cell_type": "markdown",
      "id": "8b0bb296-b1b3-4ae4-b199-b11224c78a82",
      "metadata": {
        "id": "8b0bb296-b1b3-4ae4-b199-b11224c78a82"
      },
      "source": [
        "Predict and evaluate the model using precision, recall and f1 score. "
      ]
    },
    {
      "cell_type": "code",
      "execution_count": 147,
      "id": "b00ddffa-3f09-4294-beb5-098c2d698af0",
      "metadata": {
        "id": "b00ddffa-3f09-4294-beb5-098c2d698af0"
      },
      "outputs": [
        {
          "name": "stderr",
          "output_type": "stream",
          "text": [
            "c:\\Users\\Fede\\AppData\\Local\\Programs\\Python\\Python310\\lib\\site-packages\\sklearn\\utils\\validation.py:1858: FutureWarning: Feature names only support names that are all strings. Got feature names with dtypes: ['str', 'tuple']. An error will be raised in 1.2.\n",
            "  warnings.warn(\n",
            "c:\\Users\\Fede\\AppData\\Local\\Programs\\Python\\Python310\\lib\\site-packages\\sklearn\\base.py:450: UserWarning: X does not have valid feature names, but LogisticRegression was fitted with feature names\n",
            "  warnings.warn(\n"
          ]
        }
      ],
      "source": [
        "# Predict with the best regressor\n",
        "\n",
        "best_lr = LogisticRegression(tol= 0.0001, C= 1, max_iter= 1000)\n",
        "best_lr.fit(X_train,y_train)\n",
        "y_predicted = best_lr.predict(all_nba_2018_df)"
      ]
    },
    {
      "cell_type": "code",
      "execution_count": 148,
      "id": "188d55e6",
      "metadata": {},
      "outputs": [
        {
          "name": "stdout",
          "output_type": "stream",
          "text": [
            "\n",
            "Precision: 0.625\n",
            "\n",
            "Recall: 1.0\n",
            "\n",
            "F1: 0.769\n",
            "\n"
          ]
        }
      ],
      "source": [
        "# #: Precision\n",
        "print(\"\")\n",
        "precision_new = precision_score(all_nba_2018_selections.all_nba,y_predicted)\n",
        "print(f'Precision: {round(precision_new,3)}')\n",
        "print(\"\")\n",
        "\n",
        "# #: Recall -> The ability of the classifier to find all the POSITIVE samples. In other words, how well detects the True Positives.\n",
        "\n",
        "recall_new = recall_score(all_nba_2018_selections.all_nba,y_predicted)\n",
        "print(f'Recall: {round(recall_new,3)}')\n",
        "print(\"\")\n",
        "\n",
        "# #: F1\n",
        "\n",
        "f1_new = f1_score(all_nba_2018_selections.all_nba,y_predicted)\n",
        "print(f'F1: {round(f1_new,3)}')\n",
        "print(\"\")"
      ]
    },
    {
      "cell_type": "markdown",
      "id": "17f87aa8-dd84-462a-b26b-80400e4a87e3",
      "metadata": {
        "id": "17f87aa8-dd84-462a-b26b-80400e4a87e3"
      },
      "source": [
        "- Our dataset is imbalanced and the positive class (selected by all_nba) is the minority class. There are a lot of negative examples that could be converted into False Positives."
      ]
    },
    {
      "cell_type": "markdown",
      "id": "77a8c607-5df7-43d2-8365-cbbb6f2b93e1",
      "metadata": {
        "id": "77a8c607-5df7-43d2-8365-cbbb6f2b93e1"
      },
      "source": [
        "#### Creating a custom Classifier"
      ]
    },
    {
      "cell_type": "markdown",
      "id": "21dc0d0a-1d15-4f9e-b3ed-f83df1f51ce0",
      "metadata": {
        "id": "21dc0d0a-1d15-4f9e-b3ed-f83df1f51ce0"
      },
      "source": [
        "One thing to consider in this problem, is that the number of ALl NBA selections is fixed each year, a total of 15 players are always selected. But our current model does not limit the number of positive classified players. So, we will have to wrap our model in a custom classifier that only returns as positive the 15 players with the higher probabilities. \n",
        "Fortunately, our chosen model provides access to the underlying probabilities."
      ]
    },
    {
      "cell_type": "code",
      "execution_count": 149,
      "id": "fddf0631-d676-485d-9748-a688e854c9f2",
      "metadata": {
        "id": "fddf0631-d676-485d-9748-a688e854c9f2"
      },
      "outputs": [
        {
          "name": "stdout",
          "output_type": "stream",
          "text": [
            "F1:  0.769\n",
            "Dataframe of probabilities to be chosen for ALL NBA\n",
            "\n"
          ]
        },
        {
          "name": "stderr",
          "output_type": "stream",
          "text": [
            "c:\\Users\\Fede\\AppData\\Local\\Programs\\Python\\Python310\\lib\\site-packages\\sklearn\\utils\\validation.py:1858: FutureWarning: Feature names only support names that are all strings. Got feature names with dtypes: ['str', 'tuple']. An error will be raised in 1.2.\n",
            "  warnings.warn(\n",
            "c:\\Users\\Fede\\AppData\\Local\\Programs\\Python\\Python310\\lib\\site-packages\\sklearn\\base.py:450: UserWarning: X does not have valid feature names, but LogisticRegression was fitted with feature names\n",
            "  warnings.warn(\n",
            "c:\\Users\\Fede\\AppData\\Local\\Programs\\Python\\Python310\\lib\\site-packages\\sklearn\\utils\\validation.py:1858: FutureWarning: Feature names only support names that are all strings. Got feature names with dtypes: ['str', 'tuple']. An error will be raised in 1.2.\n",
            "  warnings.warn(\n",
            "c:\\Users\\Fede\\AppData\\Local\\Programs\\Python\\Python310\\lib\\site-packages\\sklearn\\base.py:450: UserWarning: X does not have valid feature names, but LogisticRegression was fitted with feature names\n",
            "  warnings.warn(\n"
          ]
        },
        {
          "data": {
            "text/html": [
              "<div>\n",
              "<style scoped>\n",
              "    .dataframe tbody tr th:only-of-type {\n",
              "        vertical-align: middle;\n",
              "    }\n",
              "\n",
              "    .dataframe tbody tr th {\n",
              "        vertical-align: top;\n",
              "    }\n",
              "\n",
              "    .dataframe thead th {\n",
              "        text-align: right;\n",
              "    }\n",
              "</style>\n",
              "<table border=\"1\" class=\"dataframe\">\n",
              "  <thead>\n",
              "    <tr style=\"text-align: right;\">\n",
              "      <th></th>\n",
              "      <th>player_id</th>\n",
              "      <th>player</th>\n",
              "      <th>PROBABILITY_OF_BEING_SELECTED</th>\n",
              "    </tr>\n",
              "  </thead>\n",
              "  <tbody>\n",
              "    <tr>\n",
              "      <th>34</th>\n",
              "      <td>5</td>\n",
              "      <td>Alex Abrines</td>\n",
              "      <td>0.000</td>\n",
              "    </tr>\n",
              "    <tr>\n",
              "      <th>49</th>\n",
              "      <td>8</td>\n",
              "      <td>Quincy Acy</td>\n",
              "      <td>0.000</td>\n",
              "    </tr>\n",
              "    <tr>\n",
              "      <th>70</th>\n",
              "      <td>10</td>\n",
              "      <td>Jaylen Adams</td>\n",
              "      <td>0.000</td>\n",
              "    </tr>\n",
              "    <tr>\n",
              "      <th>71</th>\n",
              "      <td>13</td>\n",
              "      <td>Steven Adams</td>\n",
              "      <td>0.052</td>\n",
              "    </tr>\n",
              "    <tr>\n",
              "      <th>79</th>\n",
              "      <td>15</td>\n",
              "      <td>Bam Adebayo</td>\n",
              "      <td>0.000</td>\n",
              "    </tr>\n",
              "    <tr>\n",
              "      <th>...</th>\n",
              "      <td>...</td>\n",
              "      <td>...</td>\n",
              "      <td>...</td>\n",
              "    </tr>\n",
              "    <tr>\n",
              "      <th>15319</th>\n",
              "      <td>2806</td>\n",
              "      <td>Trae Young</td>\n",
              "      <td>0.381</td>\n",
              "    </tr>\n",
              "    <tr>\n",
              "      <th>15333</th>\n",
              "      <td>2808</td>\n",
              "      <td>Cody Zeller</td>\n",
              "      <td>0.001</td>\n",
              "    </tr>\n",
              "    <tr>\n",
              "      <th>15334</th>\n",
              "      <td>2810</td>\n",
              "      <td>Tyler Zeller</td>\n",
              "      <td>0.000</td>\n",
              "    </tr>\n",
              "    <tr>\n",
              "      <th>15350</th>\n",
              "      <td>2818</td>\n",
              "      <td>Ante Zizic</td>\n",
              "      <td>0.000</td>\n",
              "    </tr>\n",
              "    <tr>\n",
              "      <th>15354</th>\n",
              "      <td>2820</td>\n",
              "      <td>Ivica Zubac</td>\n",
              "      <td>0.000</td>\n",
              "    </tr>\n",
              "  </tbody>\n",
              "</table>\n",
              "<p>530 rows × 3 columns</p>\n",
              "</div>"
            ],
            "text/plain": [
              "       player_id        player  PROBABILITY_OF_BEING_SELECTED\n",
              "34             5  Alex Abrines                          0.000\n",
              "49             8    Quincy Acy                          0.000\n",
              "70            10  Jaylen Adams                          0.000\n",
              "71            13  Steven Adams                          0.052\n",
              "79            15   Bam Adebayo                          0.000\n",
              "...          ...           ...                            ...\n",
              "15319       2806    Trae Young                          0.381\n",
              "15333       2808   Cody Zeller                          0.001\n",
              "15334       2810  Tyler Zeller                          0.000\n",
              "15350       2818    Ante Zizic                          0.000\n",
              "15354       2820   Ivica Zubac                          0.000\n",
              "\n",
              "[530 rows x 3 columns]"
            ]
          },
          "metadata": {},
          "output_type": "display_data"
        }
      ],
      "source": [
        "# Make predictions for our dataset\n",
        "selection = best_lr.predict(all_nba_2018_df) \n",
        "\n",
        "# create the y_true (ground of truth)\n",
        "y_true = all_nba_2018_selections['all_nba'] \n",
        "\n",
        "# Let's see how well my predicton works\n",
        "print('F1: ', round(f1_score(y_true , selection),3)) \n",
        "\n",
        "# calculate the probability of being selected \n",
        "array_probs = best_lr.predict_proba(X=all_nba_2018_df)\n",
        "\n",
        "nba_full = all_nba_2018_selections.copy()\n",
        "\n",
        "print('Dataframe of probabilities to be chosen for ALL NBA')\n",
        "\n",
        "# with the calculated probability, picked the one who refers to the posibility of being selected\n",
        "nba_full['PROBABILITY_OF_BEING_SELECTED'] = list(array_probs[:, 1])\n",
        "\n",
        "# make a list with every position oredered and add it to the df\n",
        "nba_full['PREDICTIONS'] = list(selection) \n",
        "nba_full['PROBABILITY_OF_BEING_SELECTED'] = round(nba_full['PROBABILITY_OF_BEING_SELECTED'],3) \n",
        "nba_full.sort_values(by=['PROBABILITY_OF_BEING_SELECTED'], ascending=False) \n",
        "print(\"\")\n",
        "display(nba_full.loc[:,['player_id', 'player','PROBABILITY_OF_BEING_SELECTED']])\n",
        "\n"
      ]
    },
    {
      "cell_type": "markdown",
      "id": "c1e5edbf-faee-4773-a114-eed5eab89242",
      "metadata": {
        "id": "c1e5edbf-faee-4773-a114-eed5eab89242"
      },
      "source": [
        "Sort the dataset by probabilities and show the 15 players with higher probability to have been selected"
      ]
    },
    {
      "cell_type": "code",
      "execution_count": 150,
      "id": "a99e9d7f",
      "metadata": {},
      "outputs": [
        {
          "data": {
            "text/html": [
              "<div>\n",
              "<style scoped>\n",
              "    .dataframe tbody tr th:only-of-type {\n",
              "        vertical-align: middle;\n",
              "    }\n",
              "\n",
              "    .dataframe tbody tr th {\n",
              "        vertical-align: top;\n",
              "    }\n",
              "\n",
              "    .dataframe thead th {\n",
              "        text-align: right;\n",
              "    }\n",
              "</style>\n",
              "<table border=\"1\" class=\"dataframe\">\n",
              "  <thead>\n",
              "    <tr style=\"text-align: right;\">\n",
              "      <th></th>\n",
              "      <th>player_id</th>\n",
              "      <th>player</th>\n",
              "      <th>all_nba</th>\n",
              "      <th>PROBABILITY_OF_BEING_SELECTED</th>\n",
              "      <th>PREDICTIONS</th>\n",
              "    </tr>\n",
              "  </thead>\n",
              "  <tbody>\n",
              "    <tr>\n",
              "      <th>453</th>\n",
              "      <td>83</td>\n",
              "      <td>Giannis Antetokounmpo</td>\n",
              "      <td>1</td>\n",
              "      <td>0.999</td>\n",
              "      <td>1</td>\n",
              "    </tr>\n",
              "    <tr>\n",
              "      <th>5604</th>\n",
              "      <td>1024</td>\n",
              "      <td>James Harden</td>\n",
              "      <td>1</td>\n",
              "      <td>0.995</td>\n",
              "      <td>1</td>\n",
              "    </tr>\n",
              "    <tr>\n",
              "      <th>3401</th>\n",
              "      <td>587</td>\n",
              "      <td>Anthony Davis</td>\n",
              "      <td>0</td>\n",
              "      <td>0.994</td>\n",
              "      <td>1</td>\n",
              "    </tr>\n",
              "    <tr>\n",
              "      <th>6857</th>\n",
              "      <td>1240</td>\n",
              "      <td>LeBron James</td>\n",
              "      <td>1</td>\n",
              "      <td>0.991</td>\n",
              "      <td>1</td>\n",
              "    </tr>\n",
              "    <tr>\n",
              "      <th>4145</th>\n",
              "      <td>740</td>\n",
              "      <td>Joel Embiid</td>\n",
              "      <td>1</td>\n",
              "      <td>0.991</td>\n",
              "      <td>1</td>\n",
              "    </tr>\n",
              "    <tr>\n",
              "      <th>3908</th>\n",
              "      <td>695</td>\n",
              "      <td>Kevin Durant</td>\n",
              "      <td>1</td>\n",
              "      <td>0.983</td>\n",
              "      <td>1</td>\n",
              "    </tr>\n",
              "    <tr>\n",
              "      <th>14027</th>\n",
              "      <td>2572</td>\n",
              "      <td>Nikola Vucevic</td>\n",
              "      <td>0</td>\n",
              "      <td>0.972</td>\n",
              "      <td>1</td>\n",
              "    </tr>\n",
              "    <tr>\n",
              "      <th>8206</th>\n",
              "      <td>1511</td>\n",
              "      <td>Damian Lillard</td>\n",
              "      <td>1</td>\n",
              "      <td>0.941</td>\n",
              "      <td>1</td>\n",
              "    </tr>\n",
              "    <tr>\n",
              "      <th>14479</th>\n",
              "      <td>2648</td>\n",
              "      <td>Russell Westbrook</td>\n",
              "      <td>1</td>\n",
              "      <td>0.929</td>\n",
              "      <td>1</td>\n",
              "    </tr>\n",
              "    <tr>\n",
              "      <th>13673</th>\n",
              "      <td>2501</td>\n",
              "      <td>Karl-Anthony Towns</td>\n",
              "      <td>0</td>\n",
              "      <td>0.920</td>\n",
              "      <td>1</td>\n",
              "    </tr>\n",
              "    <tr>\n",
              "      <th>3168</th>\n",
              "      <td>570</td>\n",
              "      <td>Stephen Curry</td>\n",
              "      <td>1</td>\n",
              "      <td>0.901</td>\n",
              "      <td>1</td>\n",
              "    </tr>\n",
              "    <tr>\n",
              "      <th>12473</th>\n",
              "      <td>2267</td>\n",
              "      <td>Ben Simmons</td>\n",
              "      <td>0</td>\n",
              "      <td>0.877</td>\n",
              "      <td>1</td>\n",
              "    </tr>\n",
              "    <tr>\n",
              "      <th>6634</th>\n",
              "      <td>1204</td>\n",
              "      <td>Kyrie Irving</td>\n",
              "      <td>1</td>\n",
              "      <td>0.865</td>\n",
              "      <td>1</td>\n",
              "    </tr>\n",
              "    <tr>\n",
              "      <th>8103</th>\n",
              "      <td>1492</td>\n",
              "      <td>Kawhi Leonard</td>\n",
              "      <td>1</td>\n",
              "      <td>0.856</td>\n",
              "      <td>1</td>\n",
              "    </tr>\n",
              "    <tr>\n",
              "      <th>4895</th>\n",
              "      <td>884</td>\n",
              "      <td>Paul George</td>\n",
              "      <td>1</td>\n",
              "      <td>0.846</td>\n",
              "      <td>1</td>\n",
              "    </tr>\n",
              "  </tbody>\n",
              "</table>\n",
              "</div>"
            ],
            "text/plain": [
              "       player_id                 player  all_nba  \\\n",
              "453           83  Giannis Antetokounmpo        1   \n",
              "5604        1024           James Harden        1   \n",
              "3401         587          Anthony Davis        0   \n",
              "6857        1240           LeBron James        1   \n",
              "4145         740            Joel Embiid        1   \n",
              "3908         695           Kevin Durant        1   \n",
              "14027       2572         Nikola Vucevic        0   \n",
              "8206        1511         Damian Lillard        1   \n",
              "14479       2648      Russell Westbrook        1   \n",
              "13673       2501     Karl-Anthony Towns        0   \n",
              "3168         570          Stephen Curry        1   \n",
              "12473       2267            Ben Simmons        0   \n",
              "6634        1204           Kyrie Irving        1   \n",
              "8103        1492          Kawhi Leonard        1   \n",
              "4895         884            Paul George        1   \n",
              "\n",
              "       PROBABILITY_OF_BEING_SELECTED  PREDICTIONS  \n",
              "453                            0.999            1  \n",
              "5604                           0.995            1  \n",
              "3401                           0.994            1  \n",
              "6857                           0.991            1  \n",
              "4145                           0.991            1  \n",
              "3908                           0.983            1  \n",
              "14027                          0.972            1  \n",
              "8206                           0.941            1  \n",
              "14479                          0.929            1  \n",
              "13673                          0.920            1  \n",
              "3168                           0.901            1  \n",
              "12473                          0.877            1  \n",
              "6634                           0.865            1  \n",
              "8103                           0.856            1  \n",
              "4895                           0.846            1  "
            ]
          },
          "execution_count": 150,
          "metadata": {},
          "output_type": "execute_result"
        }
      ],
      "source": [
        "nba_full.sort_values(by=['PROBABILITY_OF_BEING_SELECTED'], ascending=False)[0:15]"
      ]
    },
    {
      "cell_type": "markdown",
      "id": "1c27683b-0256-40c5-929c-d5ed6cdf6d1f",
      "metadata": {
        "id": "1c27683b-0256-40c5-929c-d5ed6cdf6d1f"
      },
      "source": [
        "- Players actually selected from the all_nba_2018_selections dataset,\n",
        "- Players actually selected missing from OUR predictions+\n",
        "- Players in our predictions not selected "
      ]
    },
    {
      "cell_type": "code",
      "execution_count": 151,
      "id": "fdbcdcac-43bd-4936-8312-456b3b0bd842",
      "metadata": {
        "id": "fdbcdcac-43bd-4936-8312-456b3b0bd842"
      },
      "outputs": [
        {
          "name": "stdout",
          "output_type": "stream",
          "text": [
            "\n",
            "Players actually selected from the all_nba_2018_selections dataset: \n"
          ]
        },
        {
          "data": {
            "text/html": [
              "<div>\n",
              "<style scoped>\n",
              "    .dataframe tbody tr th:only-of-type {\n",
              "        vertical-align: middle;\n",
              "    }\n",
              "\n",
              "    .dataframe tbody tr th {\n",
              "        vertical-align: top;\n",
              "    }\n",
              "\n",
              "    .dataframe thead th {\n",
              "        text-align: right;\n",
              "    }\n",
              "</style>\n",
              "<table border=\"1\" class=\"dataframe\">\n",
              "  <thead>\n",
              "    <tr style=\"text-align: right;\">\n",
              "      <th></th>\n",
              "      <th>player_id</th>\n",
              "      <th>player</th>\n",
              "      <th>all_nba</th>\n",
              "      <th>PROBABILITY_OF_BEING_SELECTED</th>\n",
              "      <th>PREDICTIONS</th>\n",
              "    </tr>\n",
              "  </thead>\n",
              "  <tbody>\n",
              "    <tr>\n",
              "      <th>453</th>\n",
              "      <td>83</td>\n",
              "      <td>Giannis Antetokounmpo</td>\n",
              "      <td>1</td>\n",
              "      <td>0.999</td>\n",
              "      <td>1</td>\n",
              "    </tr>\n",
              "    <tr>\n",
              "      <th>3168</th>\n",
              "      <td>570</td>\n",
              "      <td>Stephen Curry</td>\n",
              "      <td>1</td>\n",
              "      <td>0.901</td>\n",
              "      <td>1</td>\n",
              "    </tr>\n",
              "    <tr>\n",
              "      <th>3908</th>\n",
              "      <td>695</td>\n",
              "      <td>Kevin Durant</td>\n",
              "      <td>1</td>\n",
              "      <td>0.983</td>\n",
              "      <td>1</td>\n",
              "    </tr>\n",
              "    <tr>\n",
              "      <th>4145</th>\n",
              "      <td>740</td>\n",
              "      <td>Joel Embiid</td>\n",
              "      <td>1</td>\n",
              "      <td>0.991</td>\n",
              "      <td>1</td>\n",
              "    </tr>\n",
              "    <tr>\n",
              "      <th>4895</th>\n",
              "      <td>884</td>\n",
              "      <td>Paul George</td>\n",
              "      <td>1</td>\n",
              "      <td>0.846</td>\n",
              "      <td>1</td>\n",
              "    </tr>\n",
              "    <tr>\n",
              "      <th>5016</th>\n",
              "      <td>909</td>\n",
              "      <td>Rudy Gobert</td>\n",
              "      <td>1</td>\n",
              "      <td>0.822</td>\n",
              "      <td>1</td>\n",
              "    </tr>\n",
              "    <tr>\n",
              "      <th>5399</th>\n",
              "      <td>979</td>\n",
              "      <td>Blake Griffin</td>\n",
              "      <td>1</td>\n",
              "      <td>0.665</td>\n",
              "      <td>1</td>\n",
              "    </tr>\n",
              "    <tr>\n",
              "      <th>5604</th>\n",
              "      <td>1024</td>\n",
              "      <td>James Harden</td>\n",
              "      <td>1</td>\n",
              "      <td>0.995</td>\n",
              "      <td>1</td>\n",
              "    </tr>\n",
              "    <tr>\n",
              "      <th>6634</th>\n",
              "      <td>1204</td>\n",
              "      <td>Kyrie Irving</td>\n",
              "      <td>1</td>\n",
              "      <td>0.865</td>\n",
              "      <td>1</td>\n",
              "    </tr>\n",
              "    <tr>\n",
              "      <th>6857</th>\n",
              "      <td>1240</td>\n",
              "      <td>LeBron James</td>\n",
              "      <td>1</td>\n",
              "      <td>0.991</td>\n",
              "      <td>1</td>\n",
              "    </tr>\n",
              "    <tr>\n",
              "      <th>7225</th>\n",
              "      <td>1315</td>\n",
              "      <td>Nikola Jokic</td>\n",
              "      <td>1</td>\n",
              "      <td>0.840</td>\n",
              "      <td>1</td>\n",
              "    </tr>\n",
              "    <tr>\n",
              "      <th>8103</th>\n",
              "      <td>1492</td>\n",
              "      <td>Kawhi Leonard</td>\n",
              "      <td>1</td>\n",
              "      <td>0.856</td>\n",
              "      <td>1</td>\n",
              "    </tr>\n",
              "    <tr>\n",
              "      <th>8206</th>\n",
              "      <td>1511</td>\n",
              "      <td>Damian Lillard</td>\n",
              "      <td>1</td>\n",
              "      <td>0.941</td>\n",
              "      <td>1</td>\n",
              "    </tr>\n",
              "    <tr>\n",
              "      <th>14132</th>\n",
              "      <td>2585</td>\n",
              "      <td>Kemba Walker</td>\n",
              "      <td>1</td>\n",
              "      <td>0.788</td>\n",
              "      <td>1</td>\n",
              "    </tr>\n",
              "    <tr>\n",
              "      <th>14479</th>\n",
              "      <td>2648</td>\n",
              "      <td>Russell Westbrook</td>\n",
              "      <td>1</td>\n",
              "      <td>0.929</td>\n",
              "      <td>1</td>\n",
              "    </tr>\n",
              "  </tbody>\n",
              "</table>\n",
              "</div>"
            ],
            "text/plain": [
              "       player_id                 player  all_nba  \\\n",
              "453           83  Giannis Antetokounmpo        1   \n",
              "3168         570          Stephen Curry        1   \n",
              "3908         695           Kevin Durant        1   \n",
              "4145         740            Joel Embiid        1   \n",
              "4895         884            Paul George        1   \n",
              "5016         909            Rudy Gobert        1   \n",
              "5399         979          Blake Griffin        1   \n",
              "5604        1024           James Harden        1   \n",
              "6634        1204           Kyrie Irving        1   \n",
              "6857        1240           LeBron James        1   \n",
              "7225        1315           Nikola Jokic        1   \n",
              "8103        1492          Kawhi Leonard        1   \n",
              "8206        1511         Damian Lillard        1   \n",
              "14132       2585           Kemba Walker        1   \n",
              "14479       2648      Russell Westbrook        1   \n",
              "\n",
              "       PROBABILITY_OF_BEING_SELECTED  PREDICTIONS  \n",
              "453                            0.999            1  \n",
              "3168                           0.901            1  \n",
              "3908                           0.983            1  \n",
              "4145                           0.991            1  \n",
              "4895                           0.846            1  \n",
              "5016                           0.822            1  \n",
              "5399                           0.665            1  \n",
              "5604                           0.995            1  \n",
              "6634                           0.865            1  \n",
              "6857                           0.991            1  \n",
              "7225                           0.840            1  \n",
              "8103                           0.856            1  \n",
              "8206                           0.941            1  \n",
              "14132                          0.788            1  \n",
              "14479                          0.929            1  "
            ]
          },
          "metadata": {},
          "output_type": "display_data"
        },
        {
          "name": "stdout",
          "output_type": "stream",
          "text": [
            "\n",
            "Players actually selected missing from OUR predictions: \n"
          ]
        },
        {
          "data": {
            "text/html": [
              "<div>\n",
              "<style scoped>\n",
              "    .dataframe tbody tr th:only-of-type {\n",
              "        vertical-align: middle;\n",
              "    }\n",
              "\n",
              "    .dataframe tbody tr th {\n",
              "        vertical-align: top;\n",
              "    }\n",
              "\n",
              "    .dataframe thead th {\n",
              "        text-align: right;\n",
              "    }\n",
              "</style>\n",
              "<table border=\"1\" class=\"dataframe\">\n",
              "  <thead>\n",
              "    <tr style=\"text-align: right;\">\n",
              "      <th></th>\n",
              "      <th>player_id</th>\n",
              "      <th>player</th>\n",
              "      <th>all_nba</th>\n",
              "      <th>PROBABILITY_OF_BEING_SELECTED</th>\n",
              "      <th>PREDICTIONS</th>\n",
              "    </tr>\n",
              "  </thead>\n",
              "  <tbody>\n",
              "  </tbody>\n",
              "</table>\n",
              "</div>"
            ],
            "text/plain": [
              "Empty DataFrame\n",
              "Columns: [player_id, player, all_nba, PROBABILITY_OF_BEING_SELECTED, PREDICTIONS]\n",
              "Index: []"
            ]
          },
          "metadata": {},
          "output_type": "display_data"
        },
        {
          "name": "stdout",
          "output_type": "stream",
          "text": [
            "\n",
            "Players in our predictions not selected: \n"
          ]
        },
        {
          "data": {
            "text/html": [
              "<div>\n",
              "<style scoped>\n",
              "    .dataframe tbody tr th:only-of-type {\n",
              "        vertical-align: middle;\n",
              "    }\n",
              "\n",
              "    .dataframe tbody tr th {\n",
              "        vertical-align: top;\n",
              "    }\n",
              "\n",
              "    .dataframe thead th {\n",
              "        text-align: right;\n",
              "    }\n",
              "</style>\n",
              "<table border=\"1\" class=\"dataframe\">\n",
              "  <thead>\n",
              "    <tr style=\"text-align: right;\">\n",
              "      <th></th>\n",
              "      <th>player_id</th>\n",
              "      <th>player</th>\n",
              "      <th>all_nba</th>\n",
              "      <th>PROBABILITY_OF_BEING_SELECTED</th>\n",
              "      <th>PREDICTIONS</th>\n",
              "    </tr>\n",
              "  </thead>\n",
              "  <tbody>\n",
              "    <tr>\n",
              "      <th>168</th>\n",
              "      <td>30</td>\n",
              "      <td>LaMarcus Aldridge</td>\n",
              "      <td>0</td>\n",
              "      <td>0.676</td>\n",
              "      <td>1</td>\n",
              "    </tr>\n",
              "    <tr>\n",
              "      <th>1048</th>\n",
              "      <td>179</td>\n",
              "      <td>Bradley Beal</td>\n",
              "      <td>0</td>\n",
              "      <td>0.583</td>\n",
              "      <td>1</td>\n",
              "    </tr>\n",
              "    <tr>\n",
              "      <th>3401</th>\n",
              "      <td>587</td>\n",
              "      <td>Anthony Davis</td>\n",
              "      <td>0</td>\n",
              "      <td>0.994</td>\n",
              "      <td>1</td>\n",
              "    </tr>\n",
              "    <tr>\n",
              "      <th>3538</th>\n",
              "      <td>633</td>\n",
              "      <td>DeMar DeRozan</td>\n",
              "      <td>0</td>\n",
              "      <td>0.540</td>\n",
              "      <td>1</td>\n",
              "    </tr>\n",
              "    <tr>\n",
              "      <th>3794</th>\n",
              "      <td>682</td>\n",
              "      <td>Andre Drummond</td>\n",
              "      <td>0</td>\n",
              "      <td>0.723</td>\n",
              "      <td>1</td>\n",
              "    </tr>\n",
              "    <tr>\n",
              "      <th>6218</th>\n",
              "      <td>1131</td>\n",
              "      <td>Jrue Holiday</td>\n",
              "      <td>0</td>\n",
              "      <td>0.615</td>\n",
              "      <td>1</td>\n",
              "    </tr>\n",
              "    <tr>\n",
              "      <th>12473</th>\n",
              "      <td>2267</td>\n",
              "      <td>Ben Simmons</td>\n",
              "      <td>0</td>\n",
              "      <td>0.877</td>\n",
              "      <td>1</td>\n",
              "    </tr>\n",
              "    <tr>\n",
              "      <th>13673</th>\n",
              "      <td>2501</td>\n",
              "      <td>Karl-Anthony Towns</td>\n",
              "      <td>0</td>\n",
              "      <td>0.920</td>\n",
              "      <td>1</td>\n",
              "    </tr>\n",
              "    <tr>\n",
              "      <th>14027</th>\n",
              "      <td>2572</td>\n",
              "      <td>Nikola Vucevic</td>\n",
              "      <td>0</td>\n",
              "      <td>0.972</td>\n",
              "      <td>1</td>\n",
              "    </tr>\n",
              "  </tbody>\n",
              "</table>\n",
              "</div>"
            ],
            "text/plain": [
              "       player_id              player  all_nba  PROBABILITY_OF_BEING_SELECTED  \\\n",
              "168           30   LaMarcus Aldridge        0                          0.676   \n",
              "1048         179        Bradley Beal        0                          0.583   \n",
              "3401         587       Anthony Davis        0                          0.994   \n",
              "3538         633       DeMar DeRozan        0                          0.540   \n",
              "3794         682      Andre Drummond        0                          0.723   \n",
              "6218        1131        Jrue Holiday        0                          0.615   \n",
              "12473       2267         Ben Simmons        0                          0.877   \n",
              "13673       2501  Karl-Anthony Towns        0                          0.920   \n",
              "14027       2572      Nikola Vucevic        0                          0.972   \n",
              "\n",
              "       PREDICTIONS  \n",
              "168              1  \n",
              "1048             1  \n",
              "3401             1  \n",
              "3538             1  \n",
              "3794             1  \n",
              "6218             1  \n",
              "12473            1  \n",
              "13673            1  \n",
              "14027            1  "
            ]
          },
          "metadata": {},
          "output_type": "display_data"
        }
      ],
      "source": [
        "print(\"\")\n",
        "print('Players actually selected from the all_nba_2018_selections dataset: ')\n",
        "display(nba_full[nba_full['all_nba'] == 1])\n",
        "print(\"\")\n",
        "print('Players actually selected missing from OUR predictions: ')\n",
        "display(nba_full[(nba_full['all_nba'] == 1) & (nba_full['PREDICTIONS'] == 0)])\n",
        "print(\"\")\n",
        "print('Players in our predictions not selected: ' )\n",
        "display(nba_full[(nba_full['all_nba'] == 0) & (nba_full['PREDICTIONS'] == 1)])\n"
      ]
    },
    {
      "cell_type": "markdown",
      "id": "66b994d0-d37a-43c2-a38f-ea5e86afa512",
      "metadata": {
        "id": "66b994d0-d37a-43c2-a38f-ea5e86afa512"
      },
      "source": [
        "Class named AllNbaSingleSeasonClassifier that takes a scikit learn model in the constructor, then implements a predict method that returns predictions with only the 15 most probable selections."
      ]
    },
    {
      "cell_type": "code",
      "execution_count": 152,
      "id": "5fc85317-ffc5-45e9-8740-3703b5d1aa86",
      "metadata": {
        "id": "5fc85317-ffc5-45e9-8740-3703b5d1aa86"
      },
      "outputs": [],
      "source": [
        "class AllNbaSingleSeasonClassifier():\n",
        "  def __init__(self, model):\n",
        "    \"\"\"\n",
        "    Class constructor\n",
        "    \n",
        "    Parameters\n",
        "    ----------\n",
        "    model: BaseEstimator\n",
        "      a Scikit learn estimator\n",
        "    \"\"\"\n",
        "    self.model = model\n",
        "\n",
        "  def predict(self,X: pd.DataFrame) -> np.ndarray:\n",
        "    \"\"\"\n",
        "    Predicts all nba selections. This classifier will limit the number\n",
        "    of positive instances to 15\n",
        "    \n",
        "    Parameters\n",
        "    ----------\n",
        "    X: pd.DataFrame\n",
        "      a dataframe with the players data\n",
        "        \n",
        "    Returns\n",
        "    -------\n",
        "    np.ndarray\n",
        "      # An array of the same length as # y, with 15 true results based on the players with most probabilities of\n",
        "      beign selected\n",
        "    \"\"\"\n",
        "    # Predictions of my model\n",
        "    selections = self.model.predict(X)\n",
        "    probabilities = self.model.predict_proba(X)\n",
        "\n",
        "    # Round, sort and pick the first 15 better probabilities to be selected\n",
        "    probabilities = np.round(probabilities,3)\n",
        "    probabilities = probabilities[:,1]\n",
        "\n",
        "    # Copy df then convert probs & selections from arrays to columns\n",
        "    nba_best_15 = X.copy()\n",
        "    nba_best_15['PROBABILITY_OF_BEING_SELECTED'] = probabilities\n",
        "    nba_best_15['PREDICTIONS'] = selections\n",
        "\n",
        "    # sort values & put 0 to the best 1 - p probabilities of not being selected\n",
        "    nba_best_15 = nba_best_15.sort_values(by='PROBABILITY_OF_BEING_SELECTED',ascending=False)\n",
        "    nba_best_15.loc[nba_best_15.index[15:], 'PREDICTIONS'] = 0\n",
        "\n",
        "    # sort index\n",
        "    nba_best_15.sort_index(axis=0, inplace=True)\n",
        "\n",
        "    # create sorted array\n",
        "    nba_best_15_final = nba_best_15.loc[:, 'PREDICTIONS']\n",
        "\n",
        "    return nba_best_15_final\n",
        "  "
      ]
    },
    {
      "cell_type": "markdown",
      "id": "0d83848f-8132-4205-bc18-88b8a5f07555",
      "metadata": {
        "id": "0d83848f-8132-4205-bc18-88b8a5f07555"
      },
      "source": [
        "Let's use the new classifier to make predictions and evaluate the result with precision, recall and f1"
      ]
    },
    {
      "cell_type": "code",
      "execution_count": 153,
      "id": "ac440daa-8a05-4a90-8729-a48af57092bb",
      "metadata": {
        "id": "ac440daa-8a05-4a90-8729-a48af57092bb"
      },
      "outputs": [
        {
          "name": "stdout",
          "output_type": "stream",
          "text": [
            "\n",
            "Precision: 0.733\n",
            "\n",
            "Recall: 0.733\n",
            "\n",
            "F1: 0.733\n",
            "\n"
          ]
        },
        {
          "name": "stderr",
          "output_type": "stream",
          "text": [
            "c:\\Users\\Fede\\AppData\\Local\\Programs\\Python\\Python310\\lib\\site-packages\\sklearn\\utils\\validation.py:1858: FutureWarning: Feature names only support names that are all strings. Got feature names with dtypes: ['str', 'tuple']. An error will be raised in 1.2.\n",
            "  warnings.warn(\n",
            "c:\\Users\\Fede\\AppData\\Local\\Programs\\Python\\Python310\\lib\\site-packages\\sklearn\\base.py:450: UserWarning: X does not have valid feature names, but LogisticRegression was fitted with feature names\n",
            "  warnings.warn(\n",
            "c:\\Users\\Fede\\AppData\\Local\\Programs\\Python\\Python310\\lib\\site-packages\\sklearn\\utils\\validation.py:1858: FutureWarning: Feature names only support names that are all strings. Got feature names with dtypes: ['str', 'tuple']. An error will be raised in 1.2.\n",
            "  warnings.warn(\n",
            "c:\\Users\\Fede\\AppData\\Local\\Programs\\Python\\Python310\\lib\\site-packages\\sklearn\\base.py:450: UserWarning: X does not have valid feature names, but LogisticRegression was fitted with feature names\n",
            "  warnings.warn(\n"
          ]
        }
      ],
      "source": [
        "# Create the classifier\n",
        "nba_classifier = AllNbaSingleSeasonClassifier(best_lr)\n",
        "y_pred = nba_classifier.predict(all_nba_2018_df)\n",
        "\n",
        "\n",
        "# #: Precision\n",
        "print(\"\")\n",
        "precision_my_classifier = precision_score(all_nba_2018_selections.all_nba,y_pred)\n",
        "print(f'Precision: {round(precision_my_classifier,3)}')\n",
        "print(\"\")\n",
        "# #: Recall -> The ability of the classifier to find all the POSITIVE samples. In other words, how well detects the True Positives.\n",
        "\n",
        "recall_my_classifier = recall_score(all_nba_2018_selections.all_nba,y_pred)\n",
        "print(f'Recall: {round(recall_my_classifier,3)}')\n",
        "print(\"\")\n",
        "# #: F1\n",
        "\n",
        "f1_my_classifier = f1_score(all_nba_2018_selections.all_nba,y_pred)\n",
        "print(f'F1: {round(f1_my_classifier,3)}')\n",
        "print(\"\")"
      ]
    },
    {
      "cell_type": "markdown",
      "id": "1dd382f9-9640-47ce-a077-41c8baeb2d9f",
      "metadata": {
        "id": "1dd382f9-9640-47ce-a077-41c8baeb2d9f",
        "tags": []
      },
      "source": [
        "#### Analyzing our results"
      ]
    },
    {
      "cell_type": "markdown",
      "id": "4bbefca3-c863-4cf6-a3a3-5168ef05e43f",
      "metadata": {
        "id": "4bbefca3-c863-4cf6-a3a3-5168ef05e43f"
      },
      "source": [
        "- The main problem it's the imbalaced dataset, the oversampled negative class skewed our model. Barely the 3% of our samples are from the selected ones(positive class). Our model is being biased by the negative class."
      ]
    },
    {
      "cell_type": "markdown",
      "id": "e81ac1ea-75ab-4fee-8148-20a4ea663791",
      "metadata": {
        "id": "e81ac1ea-75ab-4fee-8148-20a4ea663791"
      },
      "source": [
        "What can we do to improve our model?"
      ]
    },
    {
      "cell_type": "markdown",
      "id": "b8f31b42-26bd-4ce4-a42d-1ceb75ba90b6",
      "metadata": {
        "id": "b8f31b42-26bd-4ce4-a42d-1ceb75ba90b6"
      },
      "source": [
        "1. Resampling: undersampling or oversampling and re-training our model\n",
        "2. Implement SMOTE to treat imbalanced datasets"
      ]
    }
  ],
  "metadata": {
    "colab": {
      "collapsed_sections": [],
      "name": "AnyoneAI - Project 2.ipynb",
      "provenance": []
    },
    "kernelspec": {
      "display_name": "Python 3.10.1 64-bit",
      "language": "python",
      "name": "python3"
    },
    "language_info": {
      "codemirror_mode": {
        "name": "ipython",
        "version": 3
      },
      "file_extension": ".py",
      "mimetype": "text/x-python",
      "name": "python",
      "nbconvert_exporter": "python",
      "pygments_lexer": "ipython3",
      "version": "3.10.7"
    },
    "vscode": {
      "interpreter": {
        "hash": "bf3fddaf5f16d859b6e8d0eeaf4cfc855ee191cae7b483f6b3cdefa4bf9da992"
      }
    }
  },
  "nbformat": 4,
  "nbformat_minor": 5
}
